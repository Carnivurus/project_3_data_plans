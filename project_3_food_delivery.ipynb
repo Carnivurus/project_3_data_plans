{
 "cells": [
  {
   "cell_type": "markdown",
   "id": "088f621b",
   "metadata": {},
   "source": [
    "**Hola!**\n",
    "\n",
    "Mi nombre es Enrique Romero\n",
    "\n",
    "<div class=\"alert alert-danger\">\n",
    "<b>️⚠️  Comentario del revisor:</b> Esto destaca los comentarios más importantes. Sin su desarrollo, el proyecto no será aceptado. </div>\n",
    "\n",
    "<div class=\"alert alert-warning\">\n",
    "<b>⚠️ Comentario del revisor:</b> Así que los pequeños comentarios están resaltados. Se aceptan uno o dos comentarios de este tipo en el borrador, pero si hay más, deberá hacer las correcciones. Es como una tarea de prueba al solicitar un trabajo: muchos pequeños errores pueden hacer que un candidato sea rechazado.\n",
    "</div>\n",
    "\n",
    "<div class=\"alert alert-success\">\n",
    "<b>✔️ Comentario del revisor:</b> Así que destaco todos los demás comentarios.</div>\n",
    "\n",
    "<div class=\"alert alert-info\"> <b>Comentario del estudiante:</b> Por ejemplo, asi.</div>\n",
    "\n",
    "Todo esto ayudará a volver a revisar tu proyecto más rápido.\n"
   ]
  },
  {
   "cell_type": "markdown",
   "id": "3Xg_RQfnafXz",
   "metadata": {
    "id": "3Xg_RQfnafXz"
   },
   "source": [
    "# ¡Llena ese carrito!"
   ]
  },
  {
   "cell_type": "markdown",
   "id": "mhIvmmkW414q",
   "metadata": {
    "id": "mhIvmmkW414q"
   },
   "source": [
    "# Introducción\n",
    "\n",
    "Instacart es una plataforma de entregas de comestibles donde la clientela puede registrar un pedido y hacer que se lo entreguen, similar a Uber Eats y Door Dash.\n",
    "El conjunto de datos que te hemos proporcionado tiene modificaciones del original. Redujimos el tamaño del conjunto para que tus cálculos se hicieran más rápido e introdujimos valores ausentes y duplicados. Tuvimos cuidado de conservar las distribuciones de los datos originales cuando hicimos los cambios.\n",
    "\n",
    "Debes completar tres pasos. Para cada uno de ellos, escribe una breve introducción que refleje con claridad cómo pretendes resolver cada paso, y escribe párrafos explicatorios que justifiquen tus decisiones al tiempo que avanzas en tu solución.  También escribe una conclusión que resuma tus hallazgos y elecciones.\n"
   ]
  },
  {
   "cell_type": "markdown",
   "id": "3MbyzpOQZ5Or",
   "metadata": {
    "id": "3MbyzpOQZ5Or"
   },
   "source": [
    "## Diccionario de datos\n",
    "\n",
    "Hay cinco tablas en el conjunto de datos, y tendrás que usarlas todas para hacer el preprocesamiento de datos y el análisis exploratorio de datos. A continuación se muestra un diccionario de datos que enumera las columnas de cada tabla y describe los datos que contienen.\n",
    "\n",
    "- `instacart_orders.csv`: cada fila corresponde a un pedido en la aplicación Instacart.\n",
    "    - `'order_id'`: número de ID que identifica de manera única cada pedido.\n",
    "    - `'user_id'`: número de ID que identifica de manera única la cuenta de cada cliente.\n",
    "    - `'order_number'`: el número de veces que este cliente ha hecho un pedido.\n",
    "    - `'order_dow'`: día de la semana en que se hizo el pedido (0 si es domingo).\n",
    "    - `'order_hour_of_day'`: hora del día en que se hizo el pedido.\n",
    "    - `'days_since_prior_order'`: número de días transcurridos desde que este cliente hizo su pedido anterior.\n",
    "- `products.csv`: cada fila corresponde a un producto único que pueden comprar los clientes.\n",
    "    - `'product_id'`: número ID que identifica de manera única cada producto.\n",
    "    - `'product_name'`: nombre del producto.\n",
    "    - `'aisle_id'`: número ID que identifica de manera única cada categoría de pasillo de víveres.\n",
    "    - `'department_id'`: número ID que identifica de manera única cada departamento de víveres.\n",
    "- `order_products.csv`: cada fila corresponde a un artículo pedido en un pedido.\n",
    "    - `'order_id'`: número de ID que identifica de manera única cada pedido.\n",
    "    - `'product_id'`: número ID que identifica de manera única cada producto.\n",
    "    - `'add_to_cart_order'`: el orden secuencial en el que se añadió cada artículo en el carrito.\n",
    "    - `'reordered'`: 0 si el cliente nunca ha pedido este producto antes, 1 si lo ha pedido.\n",
    "- `aisles.csv`\n",
    "    - `'aisle_id'`: número ID que identifica de manera única cada categoría de pasillo de víveres.\n",
    "    - `'aisle'`: nombre del pasillo.\n",
    "- `departments.csv`\n",
    "    - `'department_id'`: número ID que identifica de manera única cada departamento de víveres.\n",
    "    - `'department'`: nombre del departamento."
   ]
  },
  {
   "cell_type": "markdown",
   "id": "n3Ha_cNSZ8lK",
   "metadata": {
    "id": "n3Ha_cNSZ8lK"
   },
   "source": [
    "# Paso 1. Descripción de los datos\n",
    "\n",
    "Lee los archivos de datos (`/datasets/instacart_orders.csv`, `/datasets/products.csv`, `/datasets/aisles.csv`, `/datasets/departments.csv` y `/datasets/order_products.csv`) con `pd.read_csv()` usando los parámetros adecuados para leer los datos correctamente. Verifica la información para cada DataFrame creado.\n"
   ]
  },
  {
   "cell_type": "markdown",
   "id": "OmlQPLlyaAfR",
   "metadata": {
    "id": "OmlQPLlyaAfR"
   },
   "source": [
    "## Plan de solución\n",
    "\n",
    "Escribe aquí tu plan de solución para el Paso 1. Descripción de los datos.\n",
    "- Primero importaremos todos los conjuntos de datos y los transformaremos a df, realizaremos un print para verificar que la información esta en orden, en caso de tener un error, procederemos a revisar cual es y corregirlo, es probable que otros parametros como \"sep=\" y \"decimal=\" deban ser agregados a la creación del DataFrame para poder visualizar la información correctamente."
   ]
  },
  {
   "cell_type": "code",
   "execution_count": 398,
   "id": "fbf1adab",
   "metadata": {
    "id": "fbf1adab"
   },
   "outputs": [],
   "source": [
    "# importar librerías\n",
    "import pandas as pd\n",
    "import numpy as np\n",
    "import matplotlib.pyplot as plt\n",
    "\n",
    "# import matlibplot pyplot as plot\n"
   ]
  },
  {
   "cell_type": "code",
   "execution_count": null,
   "id": "965212e2",
   "metadata": {},
   "outputs": [],
   "source": [
    "# leer conjuntos de datos en los DataFrames Version online\n",
    "#Se han agregado separadores al ver que en el siguiente bloque los DataFrames arrojaban una estructura incorrecta.\n",
    "\n",
    "instacart_orders_df = pd.read_csv(\"/datasets/instacart_orders.csv\", sep=\";\")\n",
    "products_df = pd.read_csv(\"/datasets/products.csv\", sep=\";\")\n",
    "departmen_df = pd.read_csv(\"/datasets/departments.csv\",sep=\";\")\n",
    "aisles_df = pd.read_csv(\"/datasets/aisles.csv\", sep=\";\")\n",
    "order_products_df= pd.read_csv(\"/datasets/order_products.csv\",sep=\";\")"
   ]
  },
  {
   "cell_type": "code",
   "execution_count": 399,
   "id": "ad36396d",
   "metadata": {
    "id": "ad36396d"
   },
   "outputs": [],
   "source": [
    "# leer conjuntos de datos en los DataFrames Version ofline\n",
    "\n",
    "#Se han agregado separadores al ver que en el siguiente bloque los DataFrames arrojaban una estructura incorrecta.\n",
    "\n",
    "# instacart_orders_df = pd.read_csv(\"D:\\\\Ejercicios\\\\Python_Tripleten\\\\TripleTen\\\\Projects\\\\instacart_orders.csv\", sep=\";\")\n",
    "# products_df = pd.read_csv(\"D:\\\\Ejercicios\\\\Python_Tripleten\\\\TripleTen\\\\Projects\\\\products.csv\", sep=\";\")\n",
    "# departmen_df = pd.read_csv(\"D:\\\\Ejercicios\\\\Python_Tripleten\\\\TripleTen\\\\Projects\\\\departments.csv\",sep=\";\")\n",
    "# aisles_df = pd.read_csv(\"D:\\\\Ejercicios\\\\Python_Tripleten\\\\TripleTen\\\\Projects\\\\aisles.csv\", sep=\";\")\n",
    "# order_products_df= pd.read_csv(\"D:\\\\Ejercicios\\\\Python_Tripleten\\\\TripleTen\\\\Projects\\\\order_products.csv\",sep=\";\")"
   ]
  },
  {
   "cell_type": "code",
   "execution_count": 400,
   "id": "d5c78c00",
   "metadata": {},
   "outputs": [
    {
     "data": {
      "text/html": [
       "<div>\n",
       "<style scoped>\n",
       "    .dataframe tbody tr th:only-of-type {\n",
       "        vertical-align: middle;\n",
       "    }\n",
       "\n",
       "    .dataframe tbody tr th {\n",
       "        vertical-align: top;\n",
       "    }\n",
       "\n",
       "    .dataframe thead th {\n",
       "        text-align: right;\n",
       "    }\n",
       "</style>\n",
       "<table border=\"1\" class=\"dataframe\">\n",
       "  <thead>\n",
       "    <tr style=\"text-align: right;\">\n",
       "      <th></th>\n",
       "      <th>order_id</th>\n",
       "      <th>product_id</th>\n",
       "      <th>add_to_cart_order</th>\n",
       "      <th>reordered</th>\n",
       "    </tr>\n",
       "  </thead>\n",
       "  <tbody>\n",
       "    <tr>\n",
       "      <th>3636585</th>\n",
       "      <td>938604</td>\n",
       "      <td>14721</td>\n",
       "      <td>5.0</td>\n",
       "      <td>1</td>\n",
       "    </tr>\n",
       "  </tbody>\n",
       "</table>\n",
       "</div>"
      ],
      "text/plain": [
       "         order_id  product_id  add_to_cart_order  reordered\n",
       "3636585    938604       14721                5.0          1"
      ]
     },
     "execution_count": 400,
     "metadata": {},
     "output_type": "execute_result"
    }
   ],
   "source": [
    "order_products_df[order_products_df[\"product_id\"]==14721] #Compruebo que la base original no tiene coherencia. "
   ]
  },
  {
   "cell_type": "code",
   "execution_count": 401,
   "id": "6a3f46a5",
   "metadata": {},
   "outputs": [],
   "source": [
    "def description(database, name):\n",
    "\n",
    "    # mostrar información del DataFrame df\n",
    "    print(f'----DataFrame {name}----') \n",
    "    print(database.head(),end=\"\\n\" )\n",
    "\n",
    "    #Verificaremos si las columnas tienen un mismo sintaxis, en este caso, snake_case.\n",
    "    print(f'----Columnas en {name}----') \n",
    "    print(database.columns,end=\"\\n\" )\n",
    "\n",
    "    #Verificaremos el número de valores ausentes en el df\n",
    "    print(f'----Información General de {name}----') \n",
    "    database.info(show_counts=True)\n",
    "\n"
   ]
  },
  {
   "cell_type": "code",
   "execution_count": 402,
   "id": "4943322a",
   "metadata": {},
   "outputs": [
    {
     "name": "stdout",
     "output_type": "stream",
     "text": [
      "----DataFrame instacart_orders_df----\n",
      "   order_id  user_id  order_number  order_dow  order_hour_of_day  \\\n",
      "0   1515936   183418            11          6                 13   \n",
      "1   1690866   163593             5          5                 12   \n",
      "2   1454967    39980             4          5                 19   \n",
      "3   1768857    82516            56          0                 20   \n",
      "4   3007858   196724             2          4                 12   \n",
      "\n",
      "   days_since_prior_order  \n",
      "0                    30.0  \n",
      "1                     9.0  \n",
      "2                     2.0  \n",
      "3                    10.0  \n",
      "4                    17.0  \n",
      "----Columnas en instacart_orders_df----\n",
      "Index(['order_id', 'user_id', 'order_number', 'order_dow', 'order_hour_of_day',\n",
      "       'days_since_prior_order'],\n",
      "      dtype='object')\n",
      "----Información General de instacart_orders_df----\n",
      "<class 'pandas.core.frame.DataFrame'>\n",
      "RangeIndex: 478967 entries, 0 to 478966\n",
      "Data columns (total 6 columns):\n",
      " #   Column                  Non-Null Count   Dtype  \n",
      "---  ------                  --------------   -----  \n",
      " 0   order_id                478967 non-null  int64  \n",
      " 1   user_id                 478967 non-null  int64  \n",
      " 2   order_number            478967 non-null  int64  \n",
      " 3   order_dow               478967 non-null  int64  \n",
      " 4   order_hour_of_day       478967 non-null  int64  \n",
      " 5   days_since_prior_order  450148 non-null  float64\n",
      "dtypes: float64(1), int64(5)\n",
      "memory usage: 21.9 MB\n"
     ]
    }
   ],
   "source": [
    "description(instacart_orders_df, 'instacart_orders_df')\n",
    "\n",
    "# Confirmamos que tenemos algunos valores ausentes en la columna \"days_since_prior_order\"\n",
    "# Days_since_prior_order debe ser typo entero"
   ]
  },
  {
   "cell_type": "code",
   "execution_count": 403,
   "id": "e3ea20f2",
   "metadata": {},
   "outputs": [
    {
     "name": "stdout",
     "output_type": "stream",
     "text": [
      "----DataFrame products_df----\n",
      "   product_id                                       product_name  aisle_id  \\\n",
      "0           1                         Chocolate Sandwich Cookies        61   \n",
      "1           2                                   All-Seasons Salt       104   \n",
      "2           3               Robust Golden Unsweetened Oolong Tea        94   \n",
      "3           4  Smart Ones Classic Favorites Mini Rigatoni Wit...        38   \n",
      "4           5                          Green Chile Anytime Sauce         5   \n",
      "\n",
      "   department_id  \n",
      "0             19  \n",
      "1             13  \n",
      "2              7  \n",
      "3              1  \n",
      "4             13  \n",
      "----Columnas en products_df----\n",
      "Index(['product_id', 'product_name', 'aisle_id', 'department_id'], dtype='object')\n",
      "----Información General de products_df----\n",
      "<class 'pandas.core.frame.DataFrame'>\n",
      "RangeIndex: 49694 entries, 0 to 49693\n",
      "Data columns (total 4 columns):\n",
      " #   Column         Non-Null Count  Dtype \n",
      "---  ------         --------------  ----- \n",
      " 0   product_id     49694 non-null  int64 \n",
      " 1   product_name   48436 non-null  object\n",
      " 2   aisle_id       49694 non-null  int64 \n",
      " 3   department_id  49694 non-null  int64 \n",
      "dtypes: int64(3), object(1)\n",
      "memory usage: 1.5+ MB\n"
     ]
    }
   ],
   "source": [
    "description(products_df, 'products_df')\n",
    "\n",
    "#Confirmamos que tenemos algunos valores ausentes en la columna \"product_name\"\n",
    "# Cambiar product name astype(str)\n",
    "# Product Id podría ser Category (debo evaluar cuantos elementos tiene, si son mas de 50 seguire en entero)"
   ]
  },
  {
   "cell_type": "code",
   "execution_count": 404,
   "id": "b46fb3f0",
   "metadata": {},
   "outputs": [
    {
     "name": "stdout",
     "output_type": "stream",
     "text": [
      "----DataFrame aisles_df----\n",
      "   aisle_id                       aisle\n",
      "0         1       prepared soups salads\n",
      "1         2           specialty cheeses\n",
      "2         3         energy granola bars\n",
      "3         4               instant foods\n",
      "4         5  marinades meat preparation\n",
      "----Columnas en aisles_df----\n",
      "Index(['aisle_id', 'aisle'], dtype='object')\n",
      "----Información General de aisles_df----\n",
      "<class 'pandas.core.frame.DataFrame'>\n",
      "RangeIndex: 134 entries, 0 to 133\n",
      "Data columns (total 2 columns):\n",
      " #   Column    Non-Null Count  Dtype \n",
      "---  ------    --------------  ----- \n",
      " 0   aisle_id  134 non-null    int64 \n",
      " 1   aisle     134 non-null    object\n",
      "dtypes: int64(1), object(1)\n",
      "memory usage: 2.2+ KB\n"
     ]
    }
   ],
   "source": [
    "description(aisles_df, 'aisles_df')\n",
    "\n",
    "#No existen varoles ausentes pero la columna aisle debería ser cambiado a str"
   ]
  },
  {
   "cell_type": "code",
   "execution_count": 405,
   "id": "c0ab3d88",
   "metadata": {},
   "outputs": [
    {
     "name": "stdout",
     "output_type": "stream",
     "text": [
      "----DataFrame department----\n",
      "   department_id department\n",
      "0              1     frozen\n",
      "1              2      other\n",
      "2              3     bakery\n",
      "3              4    produce\n",
      "4              5    alcohol\n",
      "----Columnas en department----\n",
      "Index(['department_id', 'department'], dtype='object')\n",
      "----Información General de department----\n",
      "<class 'pandas.core.frame.DataFrame'>\n",
      "RangeIndex: 21 entries, 0 to 20\n",
      "Data columns (total 2 columns):\n",
      " #   Column         Non-Null Count  Dtype \n",
      "---  ------         --------------  ----- \n",
      " 0   department_id  21 non-null     int64 \n",
      " 1   department     21 non-null     object\n",
      "dtypes: int64(1), object(1)\n",
      "memory usage: 468.0+ bytes\n"
     ]
    }
   ],
   "source": [
    "description(departmen_df, 'department')\n",
    "#No existen varoles ausentes pero la columna department debería ser cambiado a str"
   ]
  },
  {
   "cell_type": "code",
   "execution_count": 406,
   "id": "1b0c01e5",
   "metadata": {},
   "outputs": [
    {
     "name": "stdout",
     "output_type": "stream",
     "text": [
      "----DataFrame order_products----\n",
      "   order_id  product_id  add_to_cart_order  reordered\n",
      "0   2141543       11440               17.0          0\n",
      "1    567889        1560                1.0          1\n",
      "2   2261212       26683                1.0          1\n",
      "3    491251        8670               35.0          1\n",
      "4   2571142        1940                5.0          1\n",
      "----Columnas en order_products----\n",
      "Index(['order_id', 'product_id', 'add_to_cart_order', 'reordered'], dtype='object')\n",
      "----Información General de order_products----\n",
      "<class 'pandas.core.frame.DataFrame'>\n",
      "RangeIndex: 4545007 entries, 0 to 4545006\n",
      "Data columns (total 4 columns):\n",
      " #   Column             Non-Null Count    Dtype  \n",
      "---  ------             --------------    -----  \n",
      " 0   order_id           4545007 non-null  int64  \n",
      " 1   product_id         4545007 non-null  int64  \n",
      " 2   add_to_cart_order  4544171 non-null  float64\n",
      " 3   reordered          4545007 non-null  int64  \n",
      "dtypes: float64(1), int64(3)\n",
      "memory usage: 138.7 MB\n"
     ]
    }
   ],
   "source": [
    "description(order_products_df, 'order_products')\n",
    "#\"add_to_cart_order\" tiene valores nulos y debería ser entero (probablemente al tener nulos paso a float)"
   ]
  },
  {
   "cell_type": "markdown",
   "id": "t75BD19oaR5f",
   "metadata": {
    "id": "t75BD19oaR5f"
   },
   "source": [
    "## Conclusiones\n",
    "\n",
    "Escribe aquí tus conclusiones intermedias sobre el Paso 1. Descripción de los datos.\n",
    "\n",
    "\n",
    "Fue necesario agregarle formato a los documentos CSV para poder crearlos dento de un data frame, los nombres de las columnas tienen una correcta syntaxis, sin embargo debemos de trabajar un en la reclasificación de algunas columnas.\n",
    "\n",
    "He llegado a estas conclusiones hasta ahora:\n",
    "\n",
    "\n",
    "#### instacart_orders_df \n",
    "- Confirmamos que tenemos algunos valores ausentes en la columna \"days_since_prior_order\" y que su formato debería ser entero\n",
    "\n",
    "#### products_df \n",
    "- Confirmamos que tenemos algunos valores ausentes en la columna \"product_name\"\n",
    "- Cambiar product name astype(str)\n",
    "- Product Id podría ser Category (debo evaluar cuantos elementos tiene, si son mas de 50 seguire en entero)\n",
    "\n",
    "#### aisles_df \n",
    "- No existen varoles ausentes pero la columna aisle debería ser cambiado a str\n",
    "\n",
    "\n",
    "#### department \n",
    "- No existen varoles ausentes pero la columna department debería ser cambiado a str\n",
    "\n",
    "#### order_products\n",
    "- \"add_to_cart_order\" tiene valores nulos y debería ser entero (probablemente al tener nulos paso a float)\n",
    "\n",
    "Nuestro siguiente paso deberá ser identificar y procesar los valores nulos.\n"
   ]
  },
  {
   "cell_type": "markdown",
   "id": "8RJHqxVmaVsF",
   "metadata": {
    "id": "8RJHqxVmaVsF"
   },
   "source": [
    "# Paso 2. Preprocesamiento de los datos\n",
    "\n",
    "Preprocesa los datos de la siguiente manera:\n",
    "\n",
    "- Verifica y corrige los tipos de datos (por ejemplo, asegúrate de que las columnas de ID sean números enteros).\n",
    "- Identifica y completa los valores ausentes.\n",
    "- Identifica y elimina los valores duplicados.\n",
    "\n",
    "Asegúrate de explicar qué tipos de valores ausentes y duplicados encontraste, cómo los completaste o eliminaste y por qué usaste esos métodos. ¿Por qué crees que estos valores ausentes y duplicados pueden haber estado presentes en el conjunto de datos?"
   ]
  },
  {
   "cell_type": "markdown",
   "id": "p6poABZQaZYb",
   "metadata": {
    "id": "p6poABZQaZYb"
   },
   "source": [
    "## Plan de solución\n",
    "\n",
    "Escribe aquí tu plan para el Paso 2. Preprocesamiento de los datos."
   ]
  },
  {
   "cell_type": "markdown",
   "id": "07357848-dc64-4156-9cc3-01ff4365226d",
   "metadata": {
    "id": "07357848-dc64-4156-9cc3-01ff4365226d"
   },
   "source": [
    "## Encuentra y elimina los valores duplicados (y describe cómo tomaste tus decisiones)."
   ]
  },
  {
   "cell_type": "markdown",
   "id": "f179f0a9",
   "metadata": {
    "id": "f179f0a9"
   },
   "source": [
    "### `orders` data frame"
   ]
  },
  {
   "cell_type": "code",
   "execution_count": 407,
   "id": "c2328f5e",
   "metadata": {},
   "outputs": [
    {
     "name": "stdout",
     "output_type": "stream",
     "text": [
      "order_id                  15\n",
      "user_id                   15\n",
      "order_number              15\n",
      "order_dow                 15\n",
      "order_hour_of_day         15\n",
      "days_since_prior_order    13\n",
      "dtype: int64\n",
      "        order_id  user_id  order_number  order_dow  order_hour_of_day  \\\n",
      "145574    794638    50898            24          3                  2   \n",
      "223105   2160484   107525            16          3                  2   \n",
      "230807   1918001   188546            14          3                  2   \n",
      "266232   1782114   106752             1          3                  2   \n",
      "273805   1112182   202304            84          3                  2   \n",
      "284038   2845099    31189            11          3                  2   \n",
      "311713   1021560    53767             3          3                  2   \n",
      "321100    408114    68324             4          3                  2   \n",
      "323900   1919531   191501            32          3                  2   \n",
      "345917   2232988    82565             1          3                  2   \n",
      "371905    391768    57671            19          3                  2   \n",
      "394347    467134    63189            21          3                  2   \n",
      "411408   1286742   183220            48          3                  2   \n",
      "415163   2282673    86751            49          3                  2   \n",
      "441599   2125197    14050            48          3                  2   \n",
      "\n",
      "        days_since_prior_order  \n",
      "145574                     2.0  \n",
      "223105                    30.0  \n",
      "230807                    16.0  \n",
      "266232                     NaN  \n",
      "273805                     6.0  \n",
      "284038                     7.0  \n",
      "311713                     9.0  \n",
      "321100                    18.0  \n",
      "323900                     7.0  \n",
      "345917                     NaN  \n",
      "371905                    10.0  \n",
      "394347                     2.0  \n",
      "411408                     4.0  \n",
      "415163                     2.0  \n",
      "441599                     3.0  \n",
      "\n",
      "La diferencia entre la primera y última orden duplicada es de 2453331\n"
     ]
    }
   ],
   "source": [
    "# Revisa si hay pedidos duplicados\n",
    "\n",
    "# instacart_orders_df.info()  # Tenemos un total de 478966 values\n",
    "\n",
    "instacar_duplicates = instacart_orders_df[instacart_orders_df.duplicated()] #Procedo a crear un df con los valores duplicados.\n",
    "\n",
    "print(instacar_duplicates.count()) #encontramos 15 duplicados la última columna muestra 13 por los NaN\n",
    "print(instacar_duplicates, end='\\n\\n')  #muestro la tabla completa (al no ser muchos valores), para tener una perspectiva visual, observo que el día Miercoles a las 2 se duplicaron estos elementos\n",
    "\n",
    "print(\"La diferencia entre la primera y última orden duplicada es de\",(instacar_duplicates[\"order_id\"].max()) - (instacar_duplicates[\"order_id\"].min())) #Quería comprobar cuantas ordenes había entre la primera y la última orden perdida, son demasiadas, parece que el error no se hizo en una determinada hora de captura."
   ]
  },
  {
   "cell_type": "markdown",
   "id": "PEkwUX_gvt5A",
   "metadata": {
    "id": "PEkwUX_gvt5A"
   },
   "source": [
    "¿Tienes líneas duplicadas? Si sí, ¿qué tienen en común?\n",
    "\n",
    "Sí, se registraron 15 duplicados el día 3 a las 2 de la mañana, sin embargo al filtrar por el día y la hora en específico, observe que los order ID se encontraban muy separados para que fuera un error al momento de su captura en pocas palabras, se registraron 2,453,331 de ordenes entre la primera y la última duplicada. "
   ]
  },
  {
   "cell_type": "code",
   "execution_count": 408,
   "id": "0d44de5d",
   "metadata": {
    "id": "0d44de5d"
   },
   "outputs": [
    {
     "name": "stdout",
     "output_type": "stream",
     "text": [
      "Se registraron 121 filas para el día miercoles a las 2 a.m.\n"
     ]
    },
    {
     "data": {
      "text/html": [
       "<div>\n",
       "<style scoped>\n",
       "    .dataframe tbody tr th:only-of-type {\n",
       "        vertical-align: middle;\n",
       "    }\n",
       "\n",
       "    .dataframe tbody tr th {\n",
       "        vertical-align: top;\n",
       "    }\n",
       "\n",
       "    .dataframe thead th {\n",
       "        text-align: right;\n",
       "    }\n",
       "</style>\n",
       "<table border=\"1\" class=\"dataframe\">\n",
       "  <thead>\n",
       "    <tr style=\"text-align: right;\">\n",
       "      <th></th>\n",
       "      <th>order_id</th>\n",
       "      <th>user_id</th>\n",
       "      <th>order_number</th>\n",
       "      <th>order_dow</th>\n",
       "      <th>order_hour_of_day</th>\n",
       "      <th>days_since_prior_order</th>\n",
       "    </tr>\n",
       "  </thead>\n",
       "  <tbody>\n",
       "    <tr>\n",
       "      <th>452265</th>\n",
       "      <td>191</td>\n",
       "      <td>176417</td>\n",
       "      <td>44</td>\n",
       "      <td>3</td>\n",
       "      <td>2</td>\n",
       "      <td>6.0</td>\n",
       "    </tr>\n",
       "    <tr>\n",
       "      <th>468324</th>\n",
       "      <td>222962</td>\n",
       "      <td>54979</td>\n",
       "      <td>59</td>\n",
       "      <td>3</td>\n",
       "      <td>2</td>\n",
       "      <td>3.0</td>\n",
       "    </tr>\n",
       "    <tr>\n",
       "      <th>247867</th>\n",
       "      <td>238782</td>\n",
       "      <td>196224</td>\n",
       "      <td>6</td>\n",
       "      <td>3</td>\n",
       "      <td>2</td>\n",
       "      <td>3.0</td>\n",
       "    </tr>\n",
       "    <tr>\n",
       "      <th>417106</th>\n",
       "      <td>248760</td>\n",
       "      <td>204961</td>\n",
       "      <td>25</td>\n",
       "      <td>3</td>\n",
       "      <td>2</td>\n",
       "      <td>15.0</td>\n",
       "    </tr>\n",
       "    <tr>\n",
       "      <th>328565</th>\n",
       "      <td>264348</td>\n",
       "      <td>34806</td>\n",
       "      <td>6</td>\n",
       "      <td>3</td>\n",
       "      <td>2</td>\n",
       "      <td>5.0</td>\n",
       "    </tr>\n",
       "    <tr>\n",
       "      <th>316583</th>\n",
       "      <td>272079</td>\n",
       "      <td>121263</td>\n",
       "      <td>7</td>\n",
       "      <td>3</td>\n",
       "      <td>2</td>\n",
       "      <td>3.0</td>\n",
       "    </tr>\n",
       "    <tr>\n",
       "      <th>210068</th>\n",
       "      <td>284770</td>\n",
       "      <td>137352</td>\n",
       "      <td>7</td>\n",
       "      <td>3</td>\n",
       "      <td>2</td>\n",
       "      <td>8.0</td>\n",
       "    </tr>\n",
       "    <tr>\n",
       "      <th>359625</th>\n",
       "      <td>332561</td>\n",
       "      <td>201301</td>\n",
       "      <td>1</td>\n",
       "      <td>3</td>\n",
       "      <td>2</td>\n",
       "      <td>NaN</td>\n",
       "    </tr>\n",
       "    <tr>\n",
       "      <th>195093</th>\n",
       "      <td>350018</td>\n",
       "      <td>142887</td>\n",
       "      <td>6</td>\n",
       "      <td>3</td>\n",
       "      <td>2</td>\n",
       "      <td>1.0</td>\n",
       "    </tr>\n",
       "    <tr>\n",
       "      <th>29129</th>\n",
       "      <td>353088</td>\n",
       "      <td>46038</td>\n",
       "      <td>4</td>\n",
       "      <td>3</td>\n",
       "      <td>2</td>\n",
       "      <td>11.0</td>\n",
       "    </tr>\n",
       "  </tbody>\n",
       "</table>\n",
       "</div>"
      ],
      "text/plain": [
       "        order_id  user_id  order_number  order_dow  order_hour_of_day  \\\n",
       "452265       191   176417            44          3                  2   \n",
       "468324    222962    54979            59          3                  2   \n",
       "247867    238782   196224             6          3                  2   \n",
       "417106    248760   204961            25          3                  2   \n",
       "328565    264348    34806             6          3                  2   \n",
       "316583    272079   121263             7          3                  2   \n",
       "210068    284770   137352             7          3                  2   \n",
       "359625    332561   201301             1          3                  2   \n",
       "195093    350018   142887             6          3                  2   \n",
       "29129     353088    46038             4          3                  2   \n",
       "\n",
       "        days_since_prior_order  \n",
       "452265                     6.0  \n",
       "468324                     3.0  \n",
       "247867                     3.0  \n",
       "417106                    15.0  \n",
       "328565                     5.0  \n",
       "316583                     3.0  \n",
       "210068                     8.0  \n",
       "359625                     NaN  \n",
       "195093                     1.0  \n",
       "29129                     11.0  "
      ]
     },
     "execution_count": 408,
     "metadata": {},
     "output_type": "execute_result"
    }
   ],
   "source": [
    "# Basándote en tus hallazgos,\n",
    "# Verifica todos los pedidos que se hicieron el miércoles a las 2:00 a.m.\n",
    "\n",
    "# Me gustaría profundizar en los valores duplicados, creare una lista que filtre día miercoles y 2 para ver que observo\n",
    "instacart_orders_df_filter = instacart_orders_df[(instacart_orders_df[\"order_dow\" ]== 3) & (instacart_orders_df[\"order_hour_of_day\" ]== 2)]\n",
    "print(\"Se registraron\", instacart_orders_df_filter[\"order_id\"].count(), 'filas para el día miercoles a las 2 a.m.')\n",
    "instacart_orders_df_filter.sort_values(by='order_id').head(10)\n",
    "\n",
    "#Parece que esto paso solo para ciertos elementos del miercoles a las dos de la tarde, al principio creó que influiría el minuto y segundo en el que paso, sin embargo ahora pienso que fue \n",
    "#un error post captura, dentro de la base de datos.\n"
   ]
  },
  {
   "cell_type": "markdown",
   "id": "vu2OWyoqwOx5",
   "metadata": {
    "id": "vu2OWyoqwOx5"
   },
   "source": [
    "¿Qué sugiere este resultado?\n",
    "\n",
    "Que los valores fueron duplicados despues de su captura."
   ]
  },
  {
   "cell_type": "code",
   "execution_count": 409,
   "id": "480563c7",
   "metadata": {
    "id": "480563c7"
   },
   "outputs": [],
   "source": [
    "# Elimina los pedidos duplicados\n",
    "\n",
    "#Procedo a eliminar duplicados.\n",
    "instacart_orders_df.drop_duplicates(inplace=True) #Elimino duplicados de la base original\n"
   ]
  },
  {
   "cell_type": "code",
   "execution_count": 410,
   "id": "0b2396a2",
   "metadata": {
    "id": "0b2396a2"
   },
   "outputs": [
    {
     "name": "stdout",
     "output_type": "stream",
     "text": [
      "0\n",
      "<class 'pandas.core.frame.DataFrame'>\n",
      "Index: 478952 entries, 0 to 478966\n",
      "Data columns (total 6 columns):\n",
      " #   Column                  Non-Null Count   Dtype  \n",
      "---  ------                  --------------   -----  \n",
      " 0   order_id                478952 non-null  int64  \n",
      " 1   user_id                 478952 non-null  int64  \n",
      " 2   order_number            478952 non-null  int64  \n",
      " 3   order_dow               478952 non-null  int64  \n",
      " 4   order_hour_of_day       478952 non-null  int64  \n",
      " 5   days_since_prior_order  450135 non-null  float64\n",
      "dtypes: float64(1), int64(5)\n",
      "memory usage: 25.6 MB\n"
     ]
    }
   ],
   "source": [
    "# Se vuelve a verificar si hay filas duplicadas\n",
    "print(instacart_orders_df.duplicated().sum()) #Si suma 0 el valor querra decir que no hay repetidos.\n",
    "instacart_orders_df.info() #Compruebo que las filas hayan sido eliminadas (aún queda pendiente arreglar los floats.)"
   ]
  },
  {
   "cell_type": "code",
   "execution_count": 411,
   "id": "f6113ef1",
   "metadata": {
    "id": "f6113ef1"
   },
   "outputs": [
    {
     "data": {
      "text/plain": [
       "0"
      ]
     },
     "execution_count": 411,
     "metadata": {},
     "output_type": "execute_result"
    }
   ],
   "source": [
    "# Se vuelve a verificar únicamente si hay IDs duplicados de pedidos\n",
    "instacart_orders_df[\"order_id\"].duplicated().sum()"
   ]
  },
  {
   "cell_type": "markdown",
   "id": "5e8905ae",
   "metadata": {
    "id": "5e8905ae"
   },
   "source": [
    "Describe brevemente tus hallazgos y lo que hiciste con ellos\n",
    "\n",
    "Me dirijiría con mi superior o en defecto con el departamento encargado de recibir las bases de datos para informarle el bug de los valores duplicados, detallando mis hallazgos,\n",
    "\n",
    "- Tuvimos 15 valores duplicados\n",
    "- El bug afecto solo a algunos elementos del día 3 a las 2 a.m.\n",
    "- Guiandonos en los order_id, podemos pensar que estos elementos fueron capturados en momentos distintos, por lo que no parece un error de captura en el sistema.\n",
    "- Es posible que existiera un bug que afectara el elemento y debería de buscarse la causa.\n",
    "\n",
    "También me gustaría solicitar la fecha completa de la captura."
   ]
  },
  {
   "cell_type": "markdown",
   "id": "45e6bc46",
   "metadata": {
    "id": "45e6bc46"
   },
   "source": [
    "### `products` data frame"
   ]
  },
  {
   "cell_type": "code",
   "execution_count": 412,
   "id": "5f526b5b-8175-46fa-a0fd-441767d50e64",
   "metadata": {
    "id": "5f526b5b-8175-46fa-a0fd-441767d50e64"
   },
   "outputs": [
    {
     "name": "stdout",
     "output_type": "stream",
     "text": [
      "<class 'pandas.core.frame.DataFrame'>\n",
      "RangeIndex: 49694 entries, 0 to 49693\n",
      "Data columns (total 4 columns):\n",
      " #   Column         Non-Null Count  Dtype \n",
      "---  ------         --------------  ----- \n",
      " 0   product_id     49694 non-null  int64 \n",
      " 1   product_name   48436 non-null  object\n",
      " 2   aisle_id       49694 non-null  int64 \n",
      " 3   department_id  49694 non-null  int64 \n",
      "dtypes: int64(3), object(1)\n",
      "memory usage: 1.5+ MB\n"
     ]
    }
   ],
   "source": [
    "# Verifica si hay filas totalmente duplicadas\n",
    "products_df_duplicates = products_df.duplicated()\n",
    "products_df_duplicates.sum() # no hay filas duplicadas\n",
    "products_df.info() #Product name tiene valores ausentes, tenerlo en mente"
   ]
  },
  {
   "cell_type": "code",
   "execution_count": 413,
   "id": "88daa4f4",
   "metadata": {
    "id": "88daa4f4"
   },
   "outputs": [
    {
     "data": {
      "text/plain": [
       "1258"
      ]
     },
     "execution_count": 413,
     "metadata": {},
     "output_type": "execute_result"
    }
   ],
   "source": [
    "# Verifica únicamente si hay IDs duplicadas de productos\n",
    "products_df['product_id'].duplicated().sum()# no hay product_id duplicados\n",
    "products_df['product_name'].isna().sum() #1258 na values\n"
   ]
  },
  {
   "cell_type": "code",
   "execution_count": 414,
   "id": "c773f0bf",
   "metadata": {
    "id": "c773f0bf"
   },
   "outputs": [],
   "source": [
    "# Revisa únicamente si hay nombres duplicados de productos (convierte los nombres a letras mayúsculas para compararlos mejor)\n",
    "products_df['product_name'].str.lower().duplicated().sum() #Confirmo que sí tenemos nombres duplicados\n",
    "products_df['product_name'] = products_df['product_name'].str.lower() #formateamos la columna\n",
    "product_list= products_df['product_name'].unique() #Realizo una lista de los productos para ver si tenemos repetidos\n",
    "# product_list.sort() #Observo que al tener valores ausentes no me permite hacer sort.\n",
    "\n",
    "#Error esperado al ejecutar la linea"
   ]
  },
  {
   "cell_type": "code",
   "execution_count": 415,
   "id": "01efd02e",
   "metadata": {
    "id": "01efd02e"
   },
   "outputs": [],
   "source": [
    "# Revisa si hay nombres duplicados de productos no faltantes\n",
    "\n",
    "# Procedo a crear un nuevo df temporal para verificar que no hay datos repetidos en product_name sin eliminar los valores ausentes en el df original. \n",
    "\n",
    "product_df_drop_na = products_df.dropna() #Descarto momentaneamente los valores na para verificar si tenemos valores repetidos\n",
    "pdf_boolean = product_df_drop_na['product_name'].str.lower().duplicated() #Genero el booleano de los valores para poder filtrar una base\n",
    "pdf_boolean.sum() #Sí, hay 104 valores repetidos descartando los valores ausentes.\n",
    "\n",
    "product_df_drop_na[pdf_boolean].sort_values(by='product_name')  #Genero el dataframe que contiene solo los valores repetidos\n",
    "list= product_df_drop_na[pdf_boolean][\"product_name\"].tolist() #Lo transformo a una lista\n",
    "\n",
    "# En este último apartado exploratorio, al ver que son 200 filas procederé a revisar manualmente los duplicados para descartar que el pasillo y el departamento son diferentes.\n",
    "pdf_repeated = products_df.query(\"@products_df.product_name in @list\") #genero un query donde filtro el df original por los nombres repetidos\n",
    "pd.set_option('display.max_rows', None)  #Por esta ocasion deshabilito el número de filas mostradas por jupyter para poder ver toda la info\n",
    "pdf_repeated.sort_values(by='product_name') #Genero el DF con los nombres duplicados.\n",
    "pd.set_option('display.max_rows', 60)  #Regreso la opción por defecto\n",
    "\n",
    "# Sospechas confirmadas, \n",
    "\n",
    "# Tenemos varios nombres de productos repetidos y en diferentes pasillos coloco dos como ejemplo:\n",
    "# blanc de noirs se encuentra en los pasillos 62 y 134.\n",
    "# chicken with rice soup 69 y 13\n",
    "\n",
    "\n"
   ]
  },
  {
   "cell_type": "markdown",
   "id": "9da8d293",
   "metadata": {
    "id": "9da8d293"
   },
   "source": [
    "Describe brevemente tus hallazgos y lo que hiciste con ellos.\n",
    "\n",
    "La base no tenía filas duplicadas, sin embargo tiene nombres de productoss duplicados (con diferente ID, isla y departamento), product_name me parece más como una categoría, procederé a no eliminar los datos. En estos casos lo comunicaría con las partes afectadas para corroborar porque existen dos productos iguales con diferentes ID's.\n",
    "\n",
    "Valores duplicados 104 (excluyendo los valores ausentes)."
   ]
  },
  {
   "cell_type": "markdown",
   "id": "ce13b819",
   "metadata": {},
   "source": [
    "<div class=\"alert alert-success\">\n",
    "<b>✔️  Comentario del revisor:</b> Buen trabajo.</div>"
   ]
  },
  {
   "cell_type": "markdown",
   "id": "60f30db1",
   "metadata": {
    "id": "60f30db1"
   },
   "source": [
    "### `departments` data frame"
   ]
  },
  {
   "cell_type": "code",
   "execution_count": 416,
   "id": "fb410ad4-0fbf-4b80-bb09-23fdea79afe3",
   "metadata": {
    "id": "fb410ad4-0fbf-4b80-bb09-23fdea79afe3"
   },
   "outputs": [
    {
     "name": "stdout",
     "output_type": "stream",
     "text": [
      "<class 'pandas.core.frame.DataFrame'>\n",
      "RangeIndex: 21 entries, 0 to 20\n",
      "Data columns (total 2 columns):\n",
      " #   Column         Non-Null Count  Dtype \n",
      "---  ------         --------------  ----- \n",
      " 0   department_id  21 non-null     int64 \n",
      " 1   department     21 non-null     object\n",
      "dtypes: int64(1), object(1)\n",
      "memory usage: 468.0+ bytes\n"
     ]
    }
   ],
   "source": [
    "# Revisa si hay filas totalmente duplicadas\n",
    "departmen_df.duplicated().sum() #no cuenta con filas duplicados \n",
    "departmen_df['department_id'].duplicated().sum() #la columna department_id no tiene valores duplicados\n",
    "departmen_df['department'].duplicated().sum() #la columna department no tiene valores duplicados\n",
    "\n",
    "departmen_df.info()"
   ]
  },
  {
   "cell_type": "markdown",
   "id": "bd30d78e",
   "metadata": {
    "id": "bd30d78e"
   },
   "source": [
    "Describe brevemente tus hallazgos y lo que hiciste con ellos.\n",
    "\n",
    "- El conjunto de datos no tiene valores duplicados, solamente faltaríá cambiar el tipo department a str para ahorrar espacio en la memoria."
   ]
  },
  {
   "cell_type": "markdown",
   "id": "889349c1",
   "metadata": {
    "id": "889349c1"
   },
   "source": [
    "### `aisles` data frame"
   ]
  },
  {
   "cell_type": "code",
   "execution_count": 417,
   "id": "9da89fb9-4679-40f5-ad0d-c34df753a3f8",
   "metadata": {
    "id": "9da89fb9-4679-40f5-ad0d-c34df753a3f8"
   },
   "outputs": [
    {
     "name": "stdout",
     "output_type": "stream",
     "text": [
      "<class 'pandas.core.frame.DataFrame'>\n",
      "RangeIndex: 134 entries, 0 to 133\n",
      "Data columns (total 2 columns):\n",
      " #   Column    Non-Null Count  Dtype \n",
      "---  ------    --------------  ----- \n",
      " 0   aisle_id  134 non-null    int64 \n",
      " 1   aisle     134 non-null    object\n",
      "dtypes: int64(1), object(1)\n",
      "memory usage: 2.2+ KB\n"
     ]
    },
    {
     "data": {
      "text/plain": [
       "0"
      ]
     },
     "execution_count": 417,
     "metadata": {},
     "output_type": "execute_result"
    }
   ],
   "source": [
    "# Revisa si hay filas totalmente duplicadas\n",
    "\n",
    "aisles_df.info() #No se reportan valores nulos\n",
    "aisles_df.duplicated().sum()  #no se reportan filas duplicadas\n",
    "aisles_df['aisle_id'].duplicated().sum() #no se reportan valores duplicados en aisle_id\n",
    "aisles_df['aisle'].duplicated().sum() #no se reportan valores duplicados en aisle_id"
   ]
  },
  {
   "cell_type": "markdown",
   "id": "ac63826f",
   "metadata": {
    "id": "ac63826f"
   },
   "source": [
    "Describe brevemente tus hallazgos y lo que hiciste con ellos.\n",
    "\n",
    "- El conjunto de datos no tiene valores duplicados, solamente faltaríá cambiar el tipo department a str para ahorrar espacio en la memoria."
   ]
  },
  {
   "cell_type": "markdown",
   "id": "274cd06a",
   "metadata": {
    "id": "274cd06a"
   },
   "source": [
    "### `order_products` data frame"
   ]
  },
  {
   "cell_type": "code",
   "execution_count": 418,
   "id": "52326689-84a8-4b8f-a881-7c68780f62c9",
   "metadata": {
    "id": "52326689-84a8-4b8f-a881-7c68780f62c9"
   },
   "outputs": [
    {
     "name": "stdout",
     "output_type": "stream",
     "text": [
      "<class 'pandas.core.frame.DataFrame'>\n",
      "RangeIndex: 4545007 entries, 0 to 4545006\n",
      "Data columns (total 4 columns):\n",
      " #   Column             Non-Null Count    Dtype  \n",
      "---  ------             --------------    -----  \n",
      " 0   order_id           4545007 non-null  int64  \n",
      " 1   product_id         4545007 non-null  int64  \n",
      " 2   add_to_cart_order  4544171 non-null  float64\n",
      " 3   reordered          4545007 non-null  int64  \n",
      "dtypes: float64(1), int64(3)\n",
      "memory usage: 138.7 MB\n"
     ]
    },
    {
     "data": {
      "text/plain": [
       "4499434"
      ]
     },
     "execution_count": 418,
     "metadata": {},
     "output_type": "execute_result"
    }
   ],
   "source": [
    "# Revisa si hay filas totalmente duplicadas\n",
    "order_products_df.info(show_counts=True)\n",
    "order_products_df.duplicated().sum() #No hay filas duplicadas\n",
    "# order_products_df[\"order_id\"].duplicated().sum() #Veo duplicados, analizaré la tabla\n",
    "order_products_df.sort_values(by='order_id') #Observo que en esta tabla tiene sentido que las ordenes se repitan, el valor único debería ser el product_id\n",
    "order_products_df[\"product_id\"].duplicated().sum() #No hay duplicados."
   ]
  },
  {
   "cell_type": "code",
   "execution_count": 419,
   "id": "7b861391",
   "metadata": {
    "id": "7b861391"
   },
   "outputs": [
    {
     "data": {
      "text/plain": [
       "(4545007,)"
      ]
     },
     "execution_count": 419,
     "metadata": {},
     "output_type": "execute_result"
    }
   ],
   "source": [
    "# Vuelve a verificar si hay cualquier otro duplicado engañoso\n",
    "order_products_df.sort_values(by='add_to_cart_order') #ordernaré para visualizar algo más\n",
    "order_products_df[\"add_to_cart_order\"].duplicated().sum() #Esta columna se deberia repetir por el contexto que tiene, además de que los valores nan sumarían como duplicados.\n",
    "filtered_nan_order_products_df= order_products_df[order_products_df[\"add_to_cart_order\"].isna()] #Se crea un df con valores nan\n",
    "filtered_nan_order_products_df[\"add_to_cart_order\"].duplicated().sum() #835 valores duplicados provenientes de nan\n",
    "\n",
    "uniques_order_products_df = order_products_df.drop_duplicates(subset=['order_id', \"product_id\"]) #Compruebo si las series 'order_id', \"product_id\" tienen duplicados en conjunto.\n",
    "uniques_order_products_df[\"order_id\"].shape # 4545007. Tiene el mismo tamaño que el df original.\n",
    "\n"
   ]
  },
  {
   "cell_type": "markdown",
   "id": "0b890492",
   "metadata": {
    "id": "0b890492"
   },
   "source": [
    "Describe brevemente tus hallazgos y lo que hiciste con ellos.\n",
    "\n",
    "Dentro del conteto de esta tabla, todas sus columnas pueden repetirse, ya que reflejan las ordenes del cliente por cada producto ingresado, sin embargo si filtraramos por order_id y product_id únicos entonces no debería de haber valores duplicados, para eso utilice la funcion drop_duplicates(subset=['order_id', \"product_id\"]) y luego verifiqué cuantos valores habían sido eliminados, el resultado fue 0\n",
    "\n"
   ]
  },
  {
   "cell_type": "markdown",
   "id": "1e46de76",
   "metadata": {
    "id": "1e46de76"
   },
   "source": [
    "## Encuentra y elimina los valores ausentes\n",
    "\n",
    "Al trabajar con valores duplicados, pudimos observar que también nos falta investigar valores ausentes:\n",
    "\n",
    "* La columna `'product_name'` de la tabla products.\n",
    "* La columna `'days_since_prior_order'` de la tabla orders.\n",
    "* La columna `'add_to_cart_order'` de la tabla order_productos."
   ]
  },
  {
   "cell_type": "markdown",
   "id": "c0aebd78",
   "metadata": {
    "id": "c0aebd78"
   },
   "source": [
    "### `products` data frame"
   ]
  },
  {
   "cell_type": "code",
   "execution_count": 420,
   "id": "fe4a8b0f",
   "metadata": {
    "id": "fe4a8b0f"
   },
   "outputs": [
    {
     "name": "stdout",
     "output_type": "stream",
     "text": [
      "<class 'pandas.core.frame.DataFrame'>\n",
      "RangeIndex: 49694 entries, 0 to 49693\n",
      "Data columns (total 4 columns):\n",
      " #   Column         Non-Null Count  Dtype \n",
      "---  ------         --------------  ----- \n",
      " 0   product_id     49694 non-null  int64 \n",
      " 1   product_name   48436 non-null  object\n",
      " 2   aisle_id       49694 non-null  int64 \n",
      " 3   department_id  49694 non-null  int64 \n",
      "dtypes: int64(3), object(1)\n",
      "memory usage: 1.5+ MB\n"
     ]
    },
    {
     "data": {
      "text/plain": [
       "product_id          0\n",
       "product_name     1258\n",
       "aisle_id            0\n",
       "department_id       0\n",
       "dtype: int64"
      ]
     },
     "execution_count": 420,
     "metadata": {},
     "output_type": "execute_result"
    }
   ],
   "source": [
    "# Encuentra los valores ausentes en la columna 'product_name'\n",
    "products_df.info() #Valores ausentes identificados en \"product_name\"\n",
    "\n",
    "products_df[products_df['product_name'].isna()]   #Parece que todos los datos ausentes provienen del pasillo 100 departamento 21, filtremos una base con solo estos valores\n",
    "products_df_filtered = products_df[(products_df[\"aisle_id\"]==100)&(products_df[\"department_id\"]==21)] #Se crea el DF filtrando solo pasillo 100 departamento 21\n",
    "products_df_filtered.shape #1258 columnas\n",
    "products_df_filtered.isna().sum()  #1258 columnas \n"
   ]
  },
  {
   "cell_type": "markdown",
   "id": "-A6x1AbJhjkp",
   "metadata": {
    "id": "-A6x1AbJhjkp"
   },
   "source": [
    "Describe brevemente cuáles son tus hallazgos.\n",
    "\n",
    "¿Todos los nombres de productos ausentes están relacionados con el pasillo con ID 100?\n",
    "- Sí, con el passillo 100 y con el departamento 21. Al realizar el primer filtro e imprimirlo pude observar la relacion de estos dos elementos, se realizó un DF filtrando pasillo 100 y departamento 21. Con la función shape obtuvimos las filas totales y al filtrar con isna() se pudo observar que las 1258 columnas pertenecen a los valores ausentes."
   ]
  },
  {
   "cell_type": "code",
   "execution_count": 421,
   "id": "6b295120",
   "metadata": {
    "id": "6b295120"
   },
   "outputs": [
    {
     "data": {
      "text/plain": [
       "product_name\n",
       "dark chocolate- stone ground- organic- toffee almond & sea salt       1\n",
       "local living butter lettuce                                           1\n",
       "2% yellow american cheese                                             1\n",
       "organic chamomile lemon tea                                           1\n",
       "italian herb porcini mushrooms chicken sausage                        1\n",
       "                                                                   ... \n",
       "gluten free spaghetti                                                 2\n",
       "yams cut sweet potatoes in syrup                                      2\n",
       "skinless & boneless sardines in olive oil                             2\n",
       "green tea with ginseng and honey                                      3\n",
       "unknown                                                            1258\n",
       "Name: count, Length: 48333, dtype: int64"
      ]
     },
     "execution_count": 421,
     "metadata": {},
     "output_type": "execute_result"
    }
   ],
   "source": [
    "# Completa los nombres de productos ausentes con 'Unknown'\n",
    "products_df[\"product_name\"].fillna('unknown', inplace=True) #Modificamos la base original\n",
    "products_df[\"product_name\"].isna().sum() #Comprobamos que no existan más los valores ausentes\n",
    "products_df[\"product_name\"].value_counts().sort_values() #Imprimimos la lista para ver los valores unknown"
   ]
  },
  {
   "cell_type": "markdown",
   "id": "fc70e5ad",
   "metadata": {
    "id": "fc70e5ad"
   },
   "source": [
    "Describe brevemente tus hallazgos y lo que hiciste con ellos.\n",
    "\n",
    "-Se identificaron los valores ausentes y se remplazaron por unknown"
   ]
  },
  {
   "cell_type": "markdown",
   "id": "c6e81d7d",
   "metadata": {},
   "source": [
    "<div class=\"alert alert-success\">\n",
    "<b>✔️  Comentario del revisor:</b> Buen trabajo.</div>"
   ]
  },
  {
   "cell_type": "markdown",
   "id": "7eb45c86",
   "metadata": {
    "id": "7eb45c86"
   },
   "source": [
    "### `orders` data frame"
   ]
  },
  {
   "cell_type": "code",
   "execution_count": 422,
   "id": "93e41d96",
   "metadata": {
    "id": "93e41d96"
   },
   "outputs": [
    {
     "data": {
      "text/plain": [
       "order_number\n",
       "1    28817\n",
       "Name: count, dtype: int64"
      ]
     },
     "execution_count": 422,
     "metadata": {},
     "output_type": "execute_result"
    }
   ],
   "source": [
    "# Encuentra los valores ausentes\n",
    "# instacart_orders_df.info() #Valores ausentes en \"days_since_prior_order\"\n",
    "\n",
    "na_orders_df = instacart_orders_df[instacart_orders_df[\"days_since_prior_order\"].isna()] #df de valores NaN filtrados \n",
    "na_orders_df #Podemos observar una relación en el número de orden. Todas son la primera orden por lo que \"days_since_prior_order\" debería ser 0\n",
    "na_orders_df[\"order_number\"].value_counts() #Comprobamos que todas las ordenes nan pertenecen al valor 1 en la columna order_number\n",
    "\n"
   ]
  },
  {
   "cell_type": "code",
   "execution_count": 423,
   "id": "2943e747",
   "metadata": {},
   "outputs": [],
   "source": [
    "instacart_orders_df[\"days_since_prior_order\"].fillna(0,inplace=True) #Remplazamos los ausentes por 0."
   ]
  },
  {
   "cell_type": "code",
   "execution_count": 424,
   "id": "c981ff49",
   "metadata": {},
   "outputs": [
    {
     "name": "stdout",
     "output_type": "stream",
     "text": [
      "<class 'pandas.core.frame.DataFrame'>\n",
      "Index: 478952 entries, 0 to 478966\n",
      "Data columns (total 6 columns):\n",
      " #   Column                  Non-Null Count   Dtype\n",
      "---  ------                  --------------   -----\n",
      " 0   order_id                478952 non-null  int64\n",
      " 1   user_id                 478952 non-null  int64\n",
      " 2   order_number            478952 non-null  int64\n",
      " 3   order_dow               478952 non-null  int64\n",
      " 4   order_hour_of_day       478952 non-null  int64\n",
      " 5   days_since_prior_order  478952 non-null  int64\n",
      "dtypes: int64(6)\n",
      "memory usage: 25.6 MB\n"
     ]
    },
    {
     "data": {
      "text/html": [
       "<div>\n",
       "<style scoped>\n",
       "    .dataframe tbody tr th:only-of-type {\n",
       "        vertical-align: middle;\n",
       "    }\n",
       "\n",
       "    .dataframe tbody tr th {\n",
       "        vertical-align: top;\n",
       "    }\n",
       "\n",
       "    .dataframe thead th {\n",
       "        text-align: right;\n",
       "    }\n",
       "</style>\n",
       "<table border=\"1\" class=\"dataframe\">\n",
       "  <thead>\n",
       "    <tr style=\"text-align: right;\">\n",
       "      <th></th>\n",
       "      <th>order_id</th>\n",
       "      <th>user_id</th>\n",
       "      <th>order_number</th>\n",
       "      <th>order_dow</th>\n",
       "      <th>order_hour_of_day</th>\n",
       "      <th>days_since_prior_order</th>\n",
       "    </tr>\n",
       "  </thead>\n",
       "  <tbody>\n",
       "    <tr>\n",
       "      <th>0</th>\n",
       "      <td>1515936</td>\n",
       "      <td>183418</td>\n",
       "      <td>11</td>\n",
       "      <td>6</td>\n",
       "      <td>13</td>\n",
       "      <td>30</td>\n",
       "    </tr>\n",
       "    <tr>\n",
       "      <th>1</th>\n",
       "      <td>1690866</td>\n",
       "      <td>163593</td>\n",
       "      <td>5</td>\n",
       "      <td>5</td>\n",
       "      <td>12</td>\n",
       "      <td>9</td>\n",
       "    </tr>\n",
       "    <tr>\n",
       "      <th>2</th>\n",
       "      <td>1454967</td>\n",
       "      <td>39980</td>\n",
       "      <td>4</td>\n",
       "      <td>5</td>\n",
       "      <td>19</td>\n",
       "      <td>2</td>\n",
       "    </tr>\n",
       "    <tr>\n",
       "      <th>3</th>\n",
       "      <td>1768857</td>\n",
       "      <td>82516</td>\n",
       "      <td>56</td>\n",
       "      <td>0</td>\n",
       "      <td>20</td>\n",
       "      <td>10</td>\n",
       "    </tr>\n",
       "    <tr>\n",
       "      <th>4</th>\n",
       "      <td>3007858</td>\n",
       "      <td>196724</td>\n",
       "      <td>2</td>\n",
       "      <td>4</td>\n",
       "      <td>12</td>\n",
       "      <td>17</td>\n",
       "    </tr>\n",
       "    <tr>\n",
       "      <th>...</th>\n",
       "      <td>...</td>\n",
       "      <td>...</td>\n",
       "      <td>...</td>\n",
       "      <td>...</td>\n",
       "      <td>...</td>\n",
       "      <td>...</td>\n",
       "    </tr>\n",
       "    <tr>\n",
       "      <th>478962</th>\n",
       "      <td>3210681</td>\n",
       "      <td>5617</td>\n",
       "      <td>5</td>\n",
       "      <td>1</td>\n",
       "      <td>14</td>\n",
       "      <td>7</td>\n",
       "    </tr>\n",
       "    <tr>\n",
       "      <th>478963</th>\n",
       "      <td>3270802</td>\n",
       "      <td>112087</td>\n",
       "      <td>2</td>\n",
       "      <td>3</td>\n",
       "      <td>13</td>\n",
       "      <td>6</td>\n",
       "    </tr>\n",
       "    <tr>\n",
       "      <th>478964</th>\n",
       "      <td>885349</td>\n",
       "      <td>82944</td>\n",
       "      <td>16</td>\n",
       "      <td>2</td>\n",
       "      <td>11</td>\n",
       "      <td>6</td>\n",
       "    </tr>\n",
       "    <tr>\n",
       "      <th>478965</th>\n",
       "      <td>216274</td>\n",
       "      <td>4391</td>\n",
       "      <td>3</td>\n",
       "      <td>3</td>\n",
       "      <td>8</td>\n",
       "      <td>8</td>\n",
       "    </tr>\n",
       "    <tr>\n",
       "      <th>478966</th>\n",
       "      <td>2071924</td>\n",
       "      <td>1730</td>\n",
       "      <td>18</td>\n",
       "      <td>1</td>\n",
       "      <td>14</td>\n",
       "      <td>15</td>\n",
       "    </tr>\n",
       "  </tbody>\n",
       "</table>\n",
       "<p>478952 rows × 6 columns</p>\n",
       "</div>"
      ],
      "text/plain": [
       "        order_id  user_id  order_number  order_dow  order_hour_of_day  \\\n",
       "0        1515936   183418            11          6                 13   \n",
       "1        1690866   163593             5          5                 12   \n",
       "2        1454967    39980             4          5                 19   \n",
       "3        1768857    82516            56          0                 20   \n",
       "4        3007858   196724             2          4                 12   \n",
       "...          ...      ...           ...        ...                ...   \n",
       "478962   3210681     5617             5          1                 14   \n",
       "478963   3270802   112087             2          3                 13   \n",
       "478964    885349    82944            16          2                 11   \n",
       "478965    216274     4391             3          3                  8   \n",
       "478966   2071924     1730            18          1                 14   \n",
       "\n",
       "        days_since_prior_order  \n",
       "0                           30  \n",
       "1                            9  \n",
       "2                            2  \n",
       "3                           10  \n",
       "4                           17  \n",
       "...                        ...  \n",
       "478962                       7  \n",
       "478963                       6  \n",
       "478964                       6  \n",
       "478965                       8  \n",
       "478966                      15  \n",
       "\n",
       "[478952 rows x 6 columns]"
      ]
     },
     "execution_count": 424,
     "metadata": {},
     "output_type": "execute_result"
    }
   ],
   "source": [
    "instacart_orders_df.isna().sum() #comprobamos que no existan valores ausentes\n",
    "\n",
    "# Es hora de pasar el valor de la columna 5 a int64\n",
    "np.array_equal(instacart_orders_df[\"days_since_prior_order\"], instacart_orders_df[\"days_since_prior_order\"].astype(int))  #Verifico sí pudiera haber alguna afectación\n",
    "instacart_orders_df[\"days_since_prior_order\"]= instacart_orders_df[\"days_since_prior_order\"].astype(\"int64\")\n",
    "instacart_orders_df.info()\n",
    "instacart_orders_df\n"
   ]
  },
  {
   "cell_type": "markdown",
   "id": "10c8c2f6",
   "metadata": {},
   "source": [
    "¿Hay algún valor ausente que no sea el primer pedido del cliente? Describe brevemente tus hallazgos y lo que hiciste con ellos.\n",
    "- No, todo esta referenciado a la primera orden, se procedio a reemplazar el valor por 0\n"
   ]
  },
  {
   "cell_type": "markdown",
   "id": "69dc9ca4",
   "metadata": {
    "id": "69dc9ca4"
   },
   "source": [
    "### `order_products` data frame"
   ]
  },
  {
   "cell_type": "code",
   "execution_count": 425,
   "id": "b8240253",
   "metadata": {
    "id": "b8240253"
   },
   "outputs": [
    {
     "name": "stdout",
     "output_type": "stream",
     "text": [
      "<class 'pandas.core.frame.DataFrame'>\n",
      "RangeIndex: 4545007 entries, 0 to 4545006\n",
      "Data columns (total 4 columns):\n",
      " #   Column             Non-Null Count    Dtype  \n",
      "---  ------             --------------    -----  \n",
      " 0   order_id           4545007 non-null  int64  \n",
      " 1   product_id         4545007 non-null  int64  \n",
      " 2   add_to_cart_order  4544171 non-null  float64\n",
      " 3   reordered          4545007 non-null  int64  \n",
      "dtypes: float64(1), int64(3)\n",
      "memory usage: 138.7 MB\n"
     ]
    }
   ],
   "source": [
    "# Encuentra los valores ausentes\n",
    "\n",
    "order_products_df.info(show_counts=True) #Tenemos valores nulos en \"add_to_cart_order\""
   ]
  },
  {
   "cell_type": "code",
   "execution_count": 426,
   "id": "9a78e5ee",
   "metadata": {
    "id": "9a78e5ee"
   },
   "outputs": [
    {
     "name": "stdout",
     "output_type": "stream",
     "text": [
      "64.0\n",
      "1.0\n"
     ]
    }
   ],
   "source": [
    "# ¿Cuáles son los valores mínimos y máximos en esta columna?\n",
    "print(order_products_df[\"add_to_cart_order\"].max()) #Valor máximo 64\n",
    "print(order_products_df[\"add_to_cart_order\"].min()) #Valor mínimo 1"
   ]
  },
  {
   "cell_type": "markdown",
   "id": "-Z2Ja215jW78",
   "metadata": {
    "id": "-Z2Ja215jW78"
   },
   "source": [
    "Describe brevemente cuáles son tus hallazgos.\n",
    "- Los valores maximos que se registraron de la columna add_to_cart_order son 64, me gustaría corroborar si al llegar el 65 se transforma en error."
   ]
  },
  {
   "cell_type": "code",
   "execution_count": 427,
   "id": "ab9d0c2b",
   "metadata": {
    "id": "ab9d0c2b"
   },
   "outputs": [
    {
     "data": {
      "text/html": [
       "<div>\n",
       "<style scoped>\n",
       "    .dataframe tbody tr th:only-of-type {\n",
       "        vertical-align: middle;\n",
       "    }\n",
       "\n",
       "    .dataframe tbody tr th {\n",
       "        vertical-align: top;\n",
       "    }\n",
       "\n",
       "    .dataframe thead th {\n",
       "        text-align: right;\n",
       "    }\n",
       "</style>\n",
       "<table border=\"1\" class=\"dataframe\">\n",
       "  <thead>\n",
       "    <tr style=\"text-align: right;\">\n",
       "      <th></th>\n",
       "      <th>order_id</th>\n",
       "      <th>product_id</th>\n",
       "      <th>add_to_cart_order</th>\n",
       "      <th>reordered</th>\n",
       "    </tr>\n",
       "  </thead>\n",
       "  <tbody>\n",
       "    <tr>\n",
       "      <th>2437093</th>\n",
       "      <td>9310</td>\n",
       "      <td>25753</td>\n",
       "      <td>NaN</td>\n",
       "      <td>0</td>\n",
       "    </tr>\n",
       "    <tr>\n",
       "      <th>3195573</th>\n",
       "      <td>61355</td>\n",
       "      <td>39972</td>\n",
       "      <td>NaN</td>\n",
       "      <td>0</td>\n",
       "    </tr>\n",
       "    <tr>\n",
       "      <th>3941595</th>\n",
       "      <td>61355</td>\n",
       "      <td>17807</td>\n",
       "      <td>NaN</td>\n",
       "      <td>0</td>\n",
       "    </tr>\n",
       "    <tr>\n",
       "      <th>2968806</th>\n",
       "      <td>61355</td>\n",
       "      <td>29660</td>\n",
       "      <td>NaN</td>\n",
       "      <td>0</td>\n",
       "    </tr>\n",
       "    <tr>\n",
       "      <th>3965219</th>\n",
       "      <td>61355</td>\n",
       "      <td>49325</td>\n",
       "      <td>NaN</td>\n",
       "      <td>0</td>\n",
       "    </tr>\n",
       "    <tr>\n",
       "      <th>...</th>\n",
       "      <td>...</td>\n",
       "      <td>...</td>\n",
       "      <td>...</td>\n",
       "      <td>...</td>\n",
       "    </tr>\n",
       "    <tr>\n",
       "      <th>3760909</th>\n",
       "      <td>3383594</td>\n",
       "      <td>63</td>\n",
       "      <td>NaN</td>\n",
       "      <td>0</td>\n",
       "    </tr>\n",
       "    <tr>\n",
       "      <th>3784932</th>\n",
       "      <td>3383594</td>\n",
       "      <td>49144</td>\n",
       "      <td>NaN</td>\n",
       "      <td>1</td>\n",
       "    </tr>\n",
       "    <tr>\n",
       "      <th>2772397</th>\n",
       "      <td>3383594</td>\n",
       "      <td>46710</td>\n",
       "      <td>NaN</td>\n",
       "      <td>0</td>\n",
       "    </tr>\n",
       "    <tr>\n",
       "      <th>1537276</th>\n",
       "      <td>3383594</td>\n",
       "      <td>15076</td>\n",
       "      <td>NaN</td>\n",
       "      <td>0</td>\n",
       "    </tr>\n",
       "    <tr>\n",
       "      <th>1038616</th>\n",
       "      <td>3383594</td>\n",
       "      <td>15424</td>\n",
       "      <td>NaN</td>\n",
       "      <td>1</td>\n",
       "    </tr>\n",
       "  </tbody>\n",
       "</table>\n",
       "<p>836 rows × 4 columns</p>\n",
       "</div>"
      ],
      "text/plain": [
       "         order_id  product_id  add_to_cart_order  reordered\n",
       "2437093      9310       25753                NaN          0\n",
       "3195573     61355       39972                NaN          0\n",
       "3941595     61355       17807                NaN          0\n",
       "2968806     61355       29660                NaN          0\n",
       "3965219     61355       49325                NaN          0\n",
       "...           ...         ...                ...        ...\n",
       "3760909   3383594          63                NaN          0\n",
       "3784932   3383594       49144                NaN          1\n",
       "2772397   3383594       46710                NaN          0\n",
       "1537276   3383594       15076                NaN          0\n",
       "1038616   3383594       15424                NaN          1\n",
       "\n",
       "[836 rows x 4 columns]"
      ]
     },
     "execution_count": 427,
     "metadata": {},
     "output_type": "execute_result"
    }
   ],
   "source": [
    "# Guarda todas las IDs de pedidos que tengan un valor ausente en 'add_to_cart_order'\n",
    "order_products_df_na =order_products_df[order_products_df[\"add_to_cart_order\"].isna()] #Se crea df de valores ausentes\n",
    "order_products_df_na_column = order_products_df_na['order_id']\n",
    "order_products_df_na.sort_values(by='order_id')\n"
   ]
  },
  {
   "cell_type": "code",
   "execution_count": 428,
   "id": "54c31695",
   "metadata": {
    "id": "54c31695"
   },
   "outputs": [
    {
     "data": {
      "text/plain": [
       "order_id\n",
       "9310        65\n",
       "61355      127\n",
       "102236      95\n",
       "129627      69\n",
       "165801      70\n",
       "          ... \n",
       "2999801     70\n",
       "3125735     86\n",
       "3308010    115\n",
       "3347453     71\n",
       "3383594     69\n",
       "Name: product_id, Length: 70, dtype: int64"
      ]
     },
     "execution_count": 428,
     "metadata": {},
     "output_type": "execute_result"
    }
   ],
   "source": [
    "# ¿Todos los pedidos con valores ausentes tienen más de 64 productos?\n",
    "\n",
    "\n",
    "op_filter_na =order_products_df_na.groupby(by=['order_id'])[\"product_id\"].count() #Hay 70 order_id que fueron afectados.\n",
    "op_filter= order_products_df.groupby(by=['order_id'])[\"product_id\"].count() #Dada nuestra teoría creamos un df contando el total de productos agrupados por el order_id \n",
    "op_filter = op_filter[op_filter > 64] #Ahora le asignamos un filtro para que nos devuelva solo aquellos order_id que tuvieron mas de 64 productos.\n",
    "op_filter  #Confirmamos que los 70 order_id pertenecen a pedidos con mas de 64 productos.\n"
   ]
  },
  {
   "cell_type": "markdown",
   "id": "p9V6pddtjglj",
   "metadata": {
    "id": "p9V6pddtjglj"
   },
   "source": [
    "Describe brevemente cuáles son tus hallazgos.\n",
    "\n",
    "Se generó un error al reunir mas de 64 productos por order_id, esto parece ser un error en la programación del sistema, lo correcto sera notificar al superior y a los responsables de la generación de esta base.\n"
   ]
  },
  {
   "cell_type": "code",
   "execution_count": 429,
   "id": "7a987d08",
   "metadata": {
    "id": "7a987d08"
   },
   "outputs": [
    {
     "name": "stdout",
     "output_type": "stream",
     "text": [
      "<class 'pandas.core.frame.DataFrame'>\n",
      "RangeIndex: 4545007 entries, 0 to 4545006\n",
      "Data columns (total 4 columns):\n",
      " #   Column             Dtype\n",
      "---  ------             -----\n",
      " 0   order_id           int64\n",
      " 1   product_id         int64\n",
      " 2   add_to_cart_order  int32\n",
      " 3   reordered          int64\n",
      "dtypes: int32(1), int64(3)\n",
      "memory usage: 121.4 MB\n"
     ]
    }
   ],
   "source": [
    "# Remplaza los valores ausentes en la columna 'add_to_cart? con 999 y convierte la columna al tipo entero.\n",
    "order_products_df[\"add_to_cart_order\"].fillna(999,inplace=True) #remplazamos los valors\n",
    "order_products_df[\"add_to_cart_order\"] = order_products_df[\"add_to_cart_order\"].astype(int) #convertimos a int\n",
    "order_products_df.info() #verificamos"
   ]
  },
  {
   "cell_type": "markdown",
   "id": "RnplPFY1gSrb",
   "metadata": {
    "id": "RnplPFY1gSrb"
   },
   "source": [
    "## Conclusiones\n",
    "\n",
    "- Los conjuntos de datos fueron procesados, eliminando duplicados y valores ausentes, sin embargo, algunos valores activos parecen no tener una coherencia. Como lo es el nombre de los productos.\n",
    "- La base \"product_df\" contiene elementos con el mismo nombre pero con diferentes pasillos y departamentos, considerar con el equipo encargado si esta captura de datos es incorrecta o se debe a una clasificación incorrecta dentro del sistema.\n",
    "- Para efectos practicos se debería encontrar la causa de porque \"orders_df\" genero un bug en las capturas de el día 3 a las 2 de la mañana para algunos elementos.\n",
    "\n"
   ]
  },
  {
   "cell_type": "markdown",
   "id": "UjrOIwTcz3ri",
   "metadata": {
    "id": "UjrOIwTcz3ri"
   },
   "source": [
    "# Paso 3. Análisis de los datos\n",
    "\n",
    "Una vez los datos estén procesados y listos, haz el siguiente análisis:"
   ]
  },
  {
   "cell_type": "markdown",
   "id": "turkish-kidney",
   "metadata": {
    "id": "turkish-kidney"
   },
   "source": [
    "# [A] Fácil (deben completarse todos para aprobar)\n",
    "\n",
    "1. Verifica que los valores en las columnas `'order_hour_of_day'` y `'order_dow'` en la tabla orders sean razonables (es decir, `'order_hour_of_day'` oscile entre 0 y 23 y `'order_dow'` oscile entre 0 y 6).\n",
    "2. Crea un gráfico que muestre el número de personas que hacen pedidos dependiendo de la hora del día.\n",
    "3. Crea un gráfico que muestre qué día de la semana la gente hace sus compras.\n",
    "4. Crea un gráfico que muestre el tiempo que la gente espera hasta hacer su siguiente pedido, y comenta sobre los valores mínimos y máximos."
   ]
  },
  {
   "cell_type": "markdown",
   "id": "short-capability",
   "metadata": {
    "id": "short-capability"
   },
   "source": [
    "### [A1] Verifica que los valores sean sensibles"
   ]
  },
  {
   "cell_type": "code",
   "execution_count": 430,
   "id": "growing-fruit",
   "metadata": {
    "id": "growing-fruit"
   },
   "outputs": [
    {
     "data": {
      "text/html": [
       "<div>\n",
       "<style scoped>\n",
       "    .dataframe tbody tr th:only-of-type {\n",
       "        vertical-align: middle;\n",
       "    }\n",
       "\n",
       "    .dataframe tbody tr th {\n",
       "        vertical-align: top;\n",
       "    }\n",
       "\n",
       "    .dataframe thead th {\n",
       "        text-align: right;\n",
       "    }\n",
       "</style>\n",
       "<table border=\"1\" class=\"dataframe\">\n",
       "  <thead>\n",
       "    <tr style=\"text-align: right;\">\n",
       "      <th></th>\n",
       "      <th>order_id</th>\n",
       "      <th>user_id</th>\n",
       "      <th>order_number</th>\n",
       "      <th>order_dow</th>\n",
       "      <th>order_hour_of_day</th>\n",
       "      <th>days_since_prior_order</th>\n",
       "    </tr>\n",
       "  </thead>\n",
       "  <tbody>\n",
       "  </tbody>\n",
       "</table>\n",
       "</div>"
      ],
      "text/plain": [
       "Empty DataFrame\n",
       "Columns: [order_id, user_id, order_number, order_dow, order_hour_of_day, days_since_prior_order]\n",
       "Index: []"
      ]
     },
     "execution_count": 430,
     "metadata": {},
     "output_type": "execute_result"
    }
   ],
   "source": [
    "# instacart_orders_df.info() #478952 filas\n",
    "#1.- Verificando valores coherentes en order_hour_of_day y order_dow\n",
    "instacart_orders_df.query('not (order_hour_of_day >=0 and order_hour_of_day <= 23)') #Tabla con horas coherentes\n",
    "instacart_orders_df.query('not (order_dow >=0 and order_dow <= 6)') #Tabla con dias coherentes\n",
    "\n"
   ]
  },
  {
   "cell_type": "markdown",
   "id": "a6743a70",
   "metadata": {
    "id": "a6743a70"
   },
   "source": [
    "### [A2] Para cada hora del día, ¿cuántas personas hacen órdenes?"
   ]
  },
  {
   "cell_type": "code",
   "execution_count": 431,
   "id": "a36cca27",
   "metadata": {
    "id": "a36cca27"
   },
   "outputs": [
    {
     "data": {
      "image/png": "[encoded data removed]",
      "text/plain": [
       "<Figure size 700x500 with 1 Axes>"
      ]
     },
     "metadata": {},
     "output_type": "display_data"
    },
    {
     "data": {
      "text/html": [
       "<div>\n",
       "<style scoped>\n",
       "    .dataframe tbody tr th:only-of-type {\n",
       "        vertical-align: middle;\n",
       "    }\n",
       "\n",
       "    .dataframe tbody tr th {\n",
       "        vertical-align: top;\n",
       "    }\n",
       "\n",
       "    .dataframe thead th {\n",
       "        text-align: right;\n",
       "    }\n",
       "</style>\n",
       "<table border=\"1\" class=\"dataframe\">\n",
       "  <thead>\n",
       "    <tr style=\"text-align: right;\">\n",
       "      <th>order_hour_of_day</th>\n",
       "      <th>0</th>\n",
       "      <th>1</th>\n",
       "      <th>2</th>\n",
       "      <th>3</th>\n",
       "      <th>4</th>\n",
       "      <th>5</th>\n",
       "      <th>6</th>\n",
       "      <th>7</th>\n",
       "      <th>8</th>\n",
       "      <th>9</th>\n",
       "      <th>...</th>\n",
       "      <th>14</th>\n",
       "      <th>15</th>\n",
       "      <th>16</th>\n",
       "      <th>17</th>\n",
       "      <th>18</th>\n",
       "      <th>19</th>\n",
       "      <th>20</th>\n",
       "      <th>21</th>\n",
       "      <th>22</th>\n",
       "      <th>23</th>\n",
       "    </tr>\n",
       "  </thead>\n",
       "  <tbody>\n",
       "    <tr>\n",
       "      <th>user_id</th>\n",
       "      <td>2991</td>\n",
       "      <td>1671</td>\n",
       "      <td>958</td>\n",
       "      <td>744</td>\n",
       "      <td>735</td>\n",
       "      <td>1281</td>\n",
       "      <td>3757</td>\n",
       "      <td>10993</td>\n",
       "      <td>20268</td>\n",
       "      <td>28112</td>\n",
       "      <td>...</td>\n",
       "      <td>32797</td>\n",
       "      <td>32894</td>\n",
       "      <td>31579</td>\n",
       "      <td>26825</td>\n",
       "      <td>21795</td>\n",
       "      <td>17026</td>\n",
       "      <td>12891</td>\n",
       "      <td>9806</td>\n",
       "      <td>7670</td>\n",
       "      <td>5167</td>\n",
       "    </tr>\n",
       "  </tbody>\n",
       "</table>\n",
       "<p>1 rows × 24 columns</p>\n",
       "</div>"
      ],
      "text/plain": [
       "order_hour_of_day    0     1    2    3    4     5     6      7      8      9   \\\n",
       "user_id            2991  1671  958  744  735  1281  3757  10993  20268  28112   \n",
       "\n",
       "order_hour_of_day  ...     14     15     16     17     18     19     20    21  \\\n",
       "user_id            ...  32797  32894  31579  26825  21795  17026  12891  9806   \n",
       "\n",
       "order_hour_of_day    22    23  \n",
       "user_id            7670  5167  \n",
       "\n",
       "[1 rows x 24 columns]"
      ]
     },
     "execution_count": 431,
     "metadata": {},
     "output_type": "execute_result"
    }
   ],
   "source": [
    "#2.- Crea un gráfico que muestre el número de personas que hacen pedidos dependiendo de la hora del día.\n",
    "people_per_day_df = instacart_orders_df.groupby(by=\"order_hour_of_day\")['user_id'].nunique()\n",
    "\n",
    "\n",
    "people_per_day_df.plot(kind='bar',\n",
    "                       xlabel='Hours at day',\n",
    "                       ylabel='Number of persons',\n",
    "                       color= \"lightblue\",\n",
    "                       figsize=[7,5],\n",
    "                       title='Most demanded hours'\n",
    "                       \n",
    "\n",
    ")                    \n",
    "\n",
    "plt.show()\n",
    "pd.DataFrame(people_per_day_df).transpose() #Coloco apoyo visual y datos en base para reforzar la respuesta.\n"
   ]
  },
  {
   "cell_type": "markdown",
   "id": "hmR2GNQ6lCsX",
   "metadata": {
    "id": "hmR2GNQ6lCsX"
   },
   "source": [
    "Dentro del grafico \"Most demanded hours\" podemos observar una distribución normal de pedidos por horas (curva de bell), podemos destacar que las horas con mayor demanda se encuentran entre las 10:00 am y 04:00 p.m., también podemos notar un número bajo de pedidos de 1 a 5 de la mañana lo cual podría tener relación con los horarios de sueño de los usuarios."
   ]
  },
  {
   "cell_type": "markdown",
   "id": "documented-command",
   "metadata": {
    "id": "documented-command"
   },
   "source": [
    "### [A3] ¿Qué día de la semana compran víveres las personas?"
   ]
  },
  {
   "cell_type": "code",
   "execution_count": 432,
   "id": "chief-digit",
   "metadata": {
    "id": "chief-digit"
   },
   "outputs": [
    {
     "data": {
      "text/plain": [
       "<Axes: title={'center': 'Most demanded days'}, xlabel='Days of the week', ylabel='Number of orders'>"
      ]
     },
     "execution_count": 432,
     "metadata": {},
     "output_type": "execute_result"
    },
    {
     "data": {
      "image/png": "[encoded data removed]",
      "text/plain": [
       "<Figure size 640x480 with 1 Axes>"
      ]
     },
     "metadata": {},
     "output_type": "display_data"
    }
   ],
   "source": [
    "#3. Crea un gráfico que muestre qué día de la semana la gente hace sus compras.\n",
    "\n",
    "buys_by_day = instacart_orders_df.groupby(by='order_dow')[\"order_id\"].nunique()\n",
    "dow_dict= {0: \"domingo\",1: \"lunes\",2:\"martes\",3:\"miercoles\",4:\"jueves\", 5:\"viernes\",6: \"sabado\" } #confirmar si el día 0 = domingo para correr estas dos lineas\n",
    "buys_by_day = buys_by_day.rename(index=dow_dict)\n",
    "buys_by_day.plot(\n",
    "    kind='bar',\n",
    "    xlabel='Days of the week',\n",
    "    ylabel=\"Number of orders\",\n",
    "    title=\"Most demanded days\",\n",
    "    color=\"lightgreen\")\n"
   ]
  },
  {
   "cell_type": "markdown",
   "id": "dominant-lightning",
   "metadata": {
    "id": "dominant-lightning"
   },
   "source": [
    "Los días con mas demanda de compra son los días domingo, seguido de lunes y martes. "
   ]
  },
  {
   "cell_type": "markdown",
   "id": "cutting-concert",
   "metadata": {
    "id": "cutting-concert"
   },
   "source": [
    "### [A4] ¿Cuánto tiempo esperan las personas hasta hacer otro pedido? Comenta sobre los valores mínimos y máximos."
   ]
  },
  {
   "cell_type": "code",
   "execution_count": 433,
   "id": "c231f523",
   "metadata": {
    "id": "c231f523"
   },
   "outputs": [
    {
     "data": {
      "image/png": "[encoded data removed]",
      "text/plain": [
       "<Figure size 640x480 with 1 Axes>"
      ]
     },
     "metadata": {},
     "output_type": "display_data"
    }
   ],
   "source": [
    "time_to_next_order = instacart_orders_df.groupby(by='days_since_prior_order')[\"days_since_prior_order\"].value_counts()\n",
    "instacart_orders_df\n",
    "time_to_next_order.plot(kind=\"bar\", xlabel=\"Days since last order\", ylabel=\"Orders\", title='Customer loyalty')\n",
    "plt.show()\n",
    "min= time_to_next_order.min() #2640\n",
    "max= time_to_next_order.max() #51337\n",
    "total = time_to_next_order.sum() #478952\n",
    "max_share= (max*100)/total # max_share #10.72\n",
    "\n",
    "first_third= time_to_next_order.iloc[0:11].sum() #310979\n",
    "first_third_share= (first_third*100)/total # first_third_share 64.92%\n",
    "# pd.DataFrame(time_to_next_order).transpose()\n"
   ]
  },
  {
   "cell_type": "markdown",
   "id": "discrete-vertex",
   "metadata": {
    "id": "discrete-vertex"
   },
   "source": [
    "Si bien podemos observar en la siguiente tabla que existe una tendencia en los usuarios para hacer su pedido después de 30 días (con un valor de 51,337 registros), la realidad es que esta representa el 10.72% de los valores totales. Dentro de los primeros 10 días podemos ver un total de 310,979 registros de ordenes, mismos que representan el 64.92% del total de registros."
   ]
  },
  {
   "cell_type": "markdown",
   "id": "tight-staff",
   "metadata": {
    "id": "tight-staff"
   },
   "source": [
    "# [B] Intermedio (deben completarse todos para aprobar)\n",
    "\n",
    "1. ¿Existe alguna diferencia entre las distribuciones `'order_hour_of_day'` de los miércoles y los sábados? Traza gráficos de barra de `'order_hour_of_day'` para ambos días en la misma figura y describe las diferencias que observes.\n",
    "2. Grafica la distribución para el número de órdenes que hacen los clientes (es decir, cuántos clientes hicieron solo 1 pedido, cuántos hicieron 2, cuántos 3, y así sucesivamente...).\n",
    "3. ¿Cuáles son los 20 principales productos que se piden con más frecuencia (muestra su identificación y nombre)?"
   ]
  },
  {
   "cell_type": "markdown",
   "id": "packed-classic",
   "metadata": {
    "id": "packed-classic"
   },
   "source": [
    "### [B1] Diferencia entre miércoles y sábados para  `'order_hour_of_day'`. Traza gráficos de barra para los dos días y describe las diferencias que veas."
   ]
  },
  {
   "cell_type": "code",
   "execution_count": 434,
   "id": "d89b8403",
   "metadata": {
    "id": "d89b8403"
   },
   "outputs": [
    {
     "data": {
      "image/png": "[encoded data removed]",
      "text/plain": [
       "<Figure size 640x480 with 1 Axes>"
      ]
     },
     "metadata": {},
     "output_type": "display_data"
    }
   ],
   "source": [
    "wednesday_orders_df = instacart_orders_df[instacart_orders_df['order_dow']==3]\n",
    "saturday_orders_df = instacart_orders_df[instacart_orders_df['order_dow']==6]\n",
    "\n",
    "wednesday_orders_df['order_hour_of_day'].plot(kind='hist', bins=range(0, 25), alpha=0.5, xlabel=\"time of the day\" , ylabel=\"orders\", title=\"Wednesday Purchasing Trend\", color=\"g\")\n",
    "saturday_orders_df['order_hour_of_day'].plot(kind='hist',bins=range(0, 25), alpha=0.6, color=\"lightblue\")\n",
    "plt.xticks(range(0,25),range(0,25)) #Primer parametro asigna los valores, mientras que el segundo el label para los mismos.\n",
    "plt.legend([\"wednesday\",\"saturday\"])\n",
    "plt.show()\n",
    "\n",
    "# saturday_orders_df['order_hour_of_day'].value_counts().sort_index()"
   ]
  },
  {
   "cell_type": "markdown",
   "id": "charitable-congo",
   "metadata": {
    "id": "charitable-congo"
   },
   "source": [
    "El comportamiento parece muy similar en miercoles y sabado, sin embargo podemos observar un decremento en los días 12, 13 y 14 para los días miercoles"
   ]
  },
  {
   "cell_type": "markdown",
   "id": "e3891143",
   "metadata": {
    "id": "e3891143"
   },
   "source": [
    "### [B2] ¿Cuál es la distribución para el número de pedidos por cliente?"
   ]
  },
  {
   "cell_type": "code",
   "execution_count": 435,
   "id": "d8c26c23",
   "metadata": {
    "id": "d8c26c23"
   },
   "outputs": [
    {
     "data": {
      "text/plain": [
       "<Axes: ylabel='Frequency'>"
      ]
     },
     "execution_count": 435,
     "metadata": {},
     "output_type": "execute_result"
    },
    {
     "data": {
      "image/png": "[encoded data removed]",
      "text/plain": [
       "<Figure size 640x480 with 1 Axes>"
      ]
     },
     "metadata": {},
     "output_type": "display_data"
    }
   ],
   "source": [
    "orders_by_client = instacart_orders_df.groupby([\"user_id\"])[\"order_number\"].count()\n",
    "orders_by_client.plot(kind=\"hist\")\n"
   ]
  },
  {
   "cell_type": "markdown",
   "id": "d2eff7d5",
   "metadata": {
    "id": "d2eff7d5"
   },
   "source": [
    "Podemos observar una distribución asimetrica positiva, La mayoría de clientes realizan menos de 5 pedidos"
   ]
  },
  {
   "cell_type": "markdown",
   "id": "54a0319c",
   "metadata": {
    "id": "54a0319c"
   },
   "source": [
    "### [B3] ¿Cuáles son los 20 productos más populares (muestra su ID y nombre)?"
   ]
  },
  {
   "cell_type": "code",
   "execution_count": 436,
   "id": "exterior-arizona",
   "metadata": {
    "id": "exterior-arizona",
    "scrolled": true
   },
   "outputs": [
    {
     "data": {
      "text/html": [
       "<div>\n",
       "<style scoped>\n",
       "    .dataframe tbody tr th:only-of-type {\n",
       "        vertical-align: middle;\n",
       "    }\n",
       "\n",
       "    .dataframe tbody tr th {\n",
       "        vertical-align: top;\n",
       "    }\n",
       "\n",
       "    .dataframe thead th {\n",
       "        text-align: right;\n",
       "    }\n",
       "</style>\n",
       "<table border=\"1\" class=\"dataframe\">\n",
       "  <thead>\n",
       "    <tr style=\"text-align: right;\">\n",
       "      <th></th>\n",
       "      <th>product_id</th>\n",
       "      <th>counts</th>\n",
       "      <th>product_name</th>\n",
       "    </tr>\n",
       "  </thead>\n",
       "  <tbody>\n",
       "    <tr>\n",
       "      <th>0</th>\n",
       "      <td>24852</td>\n",
       "      <td>66050</td>\n",
       "      <td>banana</td>\n",
       "    </tr>\n",
       "    <tr>\n",
       "      <th>1</th>\n",
       "      <td>13176</td>\n",
       "      <td>53297</td>\n",
       "      <td>bag of organic bananas</td>\n",
       "    </tr>\n",
       "    <tr>\n",
       "      <th>2</th>\n",
       "      <td>21137</td>\n",
       "      <td>37039</td>\n",
       "      <td>organic strawberries</td>\n",
       "    </tr>\n",
       "    <tr>\n",
       "      <th>3</th>\n",
       "      <td>21903</td>\n",
       "      <td>33971</td>\n",
       "      <td>organic baby spinach</td>\n",
       "    </tr>\n",
       "    <tr>\n",
       "      <th>4</th>\n",
       "      <td>47209</td>\n",
       "      <td>29773</td>\n",
       "      <td>organic hass avocado</td>\n",
       "    </tr>\n",
       "    <tr>\n",
       "      <th>5</th>\n",
       "      <td>47766</td>\n",
       "      <td>24689</td>\n",
       "      <td>organic avocado</td>\n",
       "    </tr>\n",
       "    <tr>\n",
       "      <th>6</th>\n",
       "      <td>47626</td>\n",
       "      <td>21495</td>\n",
       "      <td>large lemon</td>\n",
       "    </tr>\n",
       "    <tr>\n",
       "      <th>7</th>\n",
       "      <td>16797</td>\n",
       "      <td>20018</td>\n",
       "      <td>strawberries</td>\n",
       "    </tr>\n",
       "    <tr>\n",
       "      <th>8</th>\n",
       "      <td>26209</td>\n",
       "      <td>19690</td>\n",
       "      <td>limes</td>\n",
       "    </tr>\n",
       "    <tr>\n",
       "      <th>9</th>\n",
       "      <td>27845</td>\n",
       "      <td>19600</td>\n",
       "      <td>organic whole milk</td>\n",
       "    </tr>\n",
       "    <tr>\n",
       "      <th>10</th>\n",
       "      <td>27966</td>\n",
       "      <td>19197</td>\n",
       "      <td>organic raspberries</td>\n",
       "    </tr>\n",
       "    <tr>\n",
       "      <th>11</th>\n",
       "      <td>22935</td>\n",
       "      <td>15898</td>\n",
       "      <td>organic yellow onion</td>\n",
       "    </tr>\n",
       "    <tr>\n",
       "      <th>12</th>\n",
       "      <td>24964</td>\n",
       "      <td>15292</td>\n",
       "      <td>organic garlic</td>\n",
       "    </tr>\n",
       "    <tr>\n",
       "      <th>13</th>\n",
       "      <td>45007</td>\n",
       "      <td>14584</td>\n",
       "      <td>organic zucchini</td>\n",
       "    </tr>\n",
       "    <tr>\n",
       "      <th>14</th>\n",
       "      <td>39275</td>\n",
       "      <td>13879</td>\n",
       "      <td>organic blueberries</td>\n",
       "    </tr>\n",
       "    <tr>\n",
       "      <th>15</th>\n",
       "      <td>49683</td>\n",
       "      <td>13675</td>\n",
       "      <td>cucumber kirby</td>\n",
       "    </tr>\n",
       "    <tr>\n",
       "      <th>16</th>\n",
       "      <td>28204</td>\n",
       "      <td>12544</td>\n",
       "      <td>organic fuji apple</td>\n",
       "    </tr>\n",
       "    <tr>\n",
       "      <th>17</th>\n",
       "      <td>5876</td>\n",
       "      <td>12232</td>\n",
       "      <td>organic lemon</td>\n",
       "    </tr>\n",
       "    <tr>\n",
       "      <th>18</th>\n",
       "      <td>8277</td>\n",
       "      <td>11993</td>\n",
       "      <td>apple honeycrisp organic</td>\n",
       "    </tr>\n",
       "    <tr>\n",
       "      <th>19</th>\n",
       "      <td>40706</td>\n",
       "      <td>11781</td>\n",
       "      <td>organic grape tomatoes</td>\n",
       "    </tr>\n",
       "    <tr>\n",
       "      <th>20</th>\n",
       "      <td>4920</td>\n",
       "      <td>11755</td>\n",
       "      <td>seedless red grapes</td>\n",
       "    </tr>\n",
       "  </tbody>\n",
       "</table>\n",
       "</div>"
      ],
      "text/plain": [
       "    product_id  counts              product_name\n",
       "0        24852   66050                    banana\n",
       "1        13176   53297    bag of organic bananas\n",
       "2        21137   37039      organic strawberries\n",
       "3        21903   33971      organic baby spinach\n",
       "4        47209   29773      organic hass avocado\n",
       "5        47766   24689           organic avocado\n",
       "6        47626   21495               large lemon\n",
       "7        16797   20018              strawberries\n",
       "8        26209   19690                     limes\n",
       "9        27845   19600        organic whole milk\n",
       "10       27966   19197       organic raspberries\n",
       "11       22935   15898      organic yellow onion\n",
       "12       24964   15292            organic garlic\n",
       "13       45007   14584          organic zucchini\n",
       "14       39275   13879       organic blueberries\n",
       "15       49683   13675            cucumber kirby\n",
       "16       28204   12544        organic fuji apple\n",
       "17        5876   12232             organic lemon\n",
       "18        8277   11993  apple honeycrisp organic\n",
       "19       40706   11781    organic grape tomatoes\n",
       "20        4920   11755       seedless red grapes"
      ]
     },
     "execution_count": 436,
     "metadata": {},
     "output_type": "execute_result"
    }
   ],
   "source": [
    "order_products_df #Llamamos la tabla donde obtendremos el top 20 productos.\n",
    "\n",
    "top_20 = order_products_df[\"product_id\"].value_counts().sort_values(ascending=False) #Contamos los productos mas consumidos y los ordenamos de manera descendente\n",
    "# order_products_df.groupby('product_id')[\"product_id\"].count().sort_values(ascending=False).head(5) #otra forma de hacerlo\n",
    "top_20= top_20.head(21) #Filtramos por los primeros 20 valores\n",
    "\n",
    "top_20_df = pd.DataFrame(data={\"product_id\":top_20.index,\"counts\":top_20.values}) #Al filtrarlo se vuelve un series, por lo que procedo a crear un nuevo df\n",
    "top_20_df = top_20_df.merge(products_df, on=\"product_id\", how=\"left\") #Finalmente, uno esta tabla con la tabla product para poder extraer el nombre\n",
    "top_20_df = top_20_df.iloc[:,:3]\n",
    "top_20_df\n"
   ]
  },
  {
   "cell_type": "markdown",
   "id": "7df00f47",
   "metadata": {
    "id": "7df00f47"
   },
   "source": [
    "Al parecer los productos mas demandados son Frutas (banana, limas,limones,frambuesas), Verduras (Cebolla, Ajo,Pepino, Tomates), y Leche"
   ]
  },
  {
   "cell_type": "markdown",
   "id": "gross-theme",
   "metadata": {
    "id": "gross-theme"
   },
   "source": [
    "# [C] Difícil (deben completarse todos para aprobar)\n",
    "\n",
    "1. ¿Cuántos artículos suelen comprar las personas en un pedido? ¿Cómo es la distribución?\n",
    "2. ¿Cuáles son los 20 principales artículos que vuelven a pedirse con mayor frecuencia (muestra sus nombres e IDs de los productos)?\n",
    "3. Para cada producto, ¿cuál es la tasa de repetición del pedido (número de repeticiones de pedido/total de pedidos?\n",
    "4. Para cada cliente, ¿qué proporción de los productos que pidió ya los había pedido? Calcula la tasa de repetición de pedido para cada usuario en lugar de para cada producto.\n",
    "5. ¿Cuáles son los 20 principales artículos que la gente pone primero en sus carritos (muestra las IDs de los productos, sus nombres, y el número de veces en que fueron el primer artículo en añadirse al carrito)?"
   ]
  },
  {
   "cell_type": "markdown",
   "id": "romantic-deposit",
   "metadata": {
    "id": "romantic-deposit"
   },
   "source": [
    "### [C1] ¿Cuántos artículos compran normalmente las personas en un pedido? ¿Cómo es la distribución?"
   ]
  },
  {
   "cell_type": "code",
   "execution_count": 437,
   "id": "virtual-punch",
   "metadata": {
    "id": "virtual-punch"
   },
   "outputs": [
    {
     "data": {
      "image/png": "[encoded data removed]",
      "text/plain": [
       "<Figure size 1500x500 with 1 Axes>"
      ]
     },
     "metadata": {},
     "output_type": "display_data"
    }
   ],
   "source": [
    "# order_products_df\n",
    "item_by_person = order_products_df.groupby('order_id')[\"product_id\"].count().sort_values() #Filtramos para obtener cada item por producto.\n",
    "item_by_person = item_by_person.value_counts().sort_index() \n",
    "item_by_person.plot(kind=\"bar\", figsize=(15,5),xlabel=\"Personas\", ylabel=\"Numero de pedidos\")\n",
    "plt.show()\n"
   ]
  },
  {
   "cell_type": "markdown",
   "id": "designed-mortality",
   "metadata": {
    "id": "designed-mortality"
   },
   "source": [
    "La mayoría de personas tiene preferencia a comprar de 4 a 7 productos, sin embargo el número de productos más demandado es 5"
   ]
  },
  {
   "cell_type": "markdown",
   "id": "5e6b5537",
   "metadata": {
    "id": "5e6b5537"
   },
   "source": [
    "### [C2] ¿Cuáles son los 20 principales artículos que vuelven a pedirse con mayor frecuencia (muestra sus nombres e IDs de los productos)?"
   ]
  },
  {
   "cell_type": "code",
   "execution_count": 438,
   "id": "9374e55a",
   "metadata": {
    "id": "9374e55a"
   },
   "outputs": [
    {
     "data": {
      "image/png": "[encoded data removed]",
      "text/plain": [
       "<Figure size 1500x300 with 1 Axes>"
      ]
     },
     "metadata": {},
     "output_type": "display_data"
    },
    {
     "data": {
      "text/html": [
       "<div>\n",
       "<style scoped>\n",
       "    .dataframe tbody tr th:only-of-type {\n",
       "        vertical-align: middle;\n",
       "    }\n",
       "\n",
       "    .dataframe tbody tr th {\n",
       "        vertical-align: top;\n",
       "    }\n",
       "\n",
       "    .dataframe thead th {\n",
       "        text-align: right;\n",
       "    }\n",
       "</style>\n",
       "<table border=\"1\" class=\"dataframe\">\n",
       "  <thead>\n",
       "    <tr style=\"text-align: right;\">\n",
       "      <th></th>\n",
       "      <th>product_id</th>\n",
       "      <th>times_reordered</th>\n",
       "      <th>product_name</th>\n",
       "    </tr>\n",
       "  </thead>\n",
       "  <tbody>\n",
       "    <tr>\n",
       "      <th>0</th>\n",
       "      <td>24852</td>\n",
       "      <td>55763</td>\n",
       "      <td>banana</td>\n",
       "    </tr>\n",
       "    <tr>\n",
       "      <th>1</th>\n",
       "      <td>13176</td>\n",
       "      <td>44450</td>\n",
       "      <td>bag of organic bananas</td>\n",
       "    </tr>\n",
       "    <tr>\n",
       "      <th>2</th>\n",
       "      <td>21137</td>\n",
       "      <td>28639</td>\n",
       "      <td>organic strawberries</td>\n",
       "    </tr>\n",
       "    <tr>\n",
       "      <th>3</th>\n",
       "      <td>21903</td>\n",
       "      <td>26233</td>\n",
       "      <td>organic baby spinach</td>\n",
       "    </tr>\n",
       "    <tr>\n",
       "      <th>4</th>\n",
       "      <td>47209</td>\n",
       "      <td>23629</td>\n",
       "      <td>organic hass avocado</td>\n",
       "    </tr>\n",
       "    <tr>\n",
       "      <th>5</th>\n",
       "      <td>47766</td>\n",
       "      <td>18743</td>\n",
       "      <td>organic avocado</td>\n",
       "    </tr>\n",
       "    <tr>\n",
       "      <th>6</th>\n",
       "      <td>27845</td>\n",
       "      <td>16251</td>\n",
       "      <td>organic whole milk</td>\n",
       "    </tr>\n",
       "    <tr>\n",
       "      <th>7</th>\n",
       "      <td>47626</td>\n",
       "      <td>15044</td>\n",
       "      <td>large lemon</td>\n",
       "    </tr>\n",
       "    <tr>\n",
       "      <th>8</th>\n",
       "      <td>27966</td>\n",
       "      <td>14748</td>\n",
       "      <td>organic raspberries</td>\n",
       "    </tr>\n",
       "    <tr>\n",
       "      <th>9</th>\n",
       "      <td>16797</td>\n",
       "      <td>13945</td>\n",
       "      <td>strawberries</td>\n",
       "    </tr>\n",
       "    <tr>\n",
       "      <th>10</th>\n",
       "      <td>26209</td>\n",
       "      <td>13327</td>\n",
       "      <td>limes</td>\n",
       "    </tr>\n",
       "    <tr>\n",
       "      <th>11</th>\n",
       "      <td>22935</td>\n",
       "      <td>11145</td>\n",
       "      <td>organic yellow onion</td>\n",
       "    </tr>\n",
       "    <tr>\n",
       "      <th>12</th>\n",
       "      <td>24964</td>\n",
       "      <td>10411</td>\n",
       "      <td>organic garlic</td>\n",
       "    </tr>\n",
       "    <tr>\n",
       "      <th>13</th>\n",
       "      <td>45007</td>\n",
       "      <td>10076</td>\n",
       "      <td>organic zucchini</td>\n",
       "    </tr>\n",
       "    <tr>\n",
       "      <th>14</th>\n",
       "      <td>49683</td>\n",
       "      <td>9538</td>\n",
       "      <td>cucumber kirby</td>\n",
       "    </tr>\n",
       "    <tr>\n",
       "      <th>15</th>\n",
       "      <td>28204</td>\n",
       "      <td>8989</td>\n",
       "      <td>organic fuji apple</td>\n",
       "    </tr>\n",
       "    <tr>\n",
       "      <th>16</th>\n",
       "      <td>8277</td>\n",
       "      <td>8836</td>\n",
       "      <td>apple honeycrisp organic</td>\n",
       "    </tr>\n",
       "    <tr>\n",
       "      <th>17</th>\n",
       "      <td>39275</td>\n",
       "      <td>8799</td>\n",
       "      <td>organic blueberries</td>\n",
       "    </tr>\n",
       "    <tr>\n",
       "      <th>18</th>\n",
       "      <td>5876</td>\n",
       "      <td>8412</td>\n",
       "      <td>organic lemon</td>\n",
       "    </tr>\n",
       "    <tr>\n",
       "      <th>19</th>\n",
       "      <td>49235</td>\n",
       "      <td>8389</td>\n",
       "      <td>organic half &amp; half</td>\n",
       "    </tr>\n",
       "  </tbody>\n",
       "</table>\n",
       "</div>"
      ],
      "text/plain": [
       "    product_id  times_reordered              product_name\n",
       "0        24852            55763                    banana\n",
       "1        13176            44450    bag of organic bananas\n",
       "2        21137            28639      organic strawberries\n",
       "3        21903            26233      organic baby spinach\n",
       "4        47209            23629      organic hass avocado\n",
       "5        47766            18743           organic avocado\n",
       "6        27845            16251        organic whole milk\n",
       "7        47626            15044               large lemon\n",
       "8        27966            14748       organic raspberries\n",
       "9        16797            13945              strawberries\n",
       "10       26209            13327                     limes\n",
       "11       22935            11145      organic yellow onion\n",
       "12       24964            10411            organic garlic\n",
       "13       45007            10076          organic zucchini\n",
       "14       49683             9538            cucumber kirby\n",
       "15       28204             8989        organic fuji apple\n",
       "16        8277             8836  apple honeycrisp organic\n",
       "17       39275             8799       organic blueberries\n",
       "18        5876             8412             organic lemon\n",
       "19       49235             8389       organic half & half"
      ]
     },
     "execution_count": 438,
     "metadata": {},
     "output_type": "execute_result"
    }
   ],
   "source": [
    "top_reordered= order_products_df.groupby(\"product_id\")[\"reordered\"].sum().sort_values(ascending=False).head(20) #agrupamos por product ID y sumamos los productos que fueron reordenados.\n",
    "top_reordered_df = pd.DataFrame(data={'product_id':top_reordered.index, \"times_reordered\": top_reordered.values}) #Al debolvernos una serie lo transformo a formato DF de nuevo.\n",
    "top_reordered_df = top_reordered_df.merge(how=\"left\", on=\"product_id\", right=products_df) #Realizamos un merge para obtener los nombres de los productos.\n",
    "\n",
    "top_reordered_g = top_reordered_df.iloc[:,[2,1]]  #Obtenemos las columnas que nos interesan\n",
    "top_reordered_g.plot(kind=\"bar\" ,x=\"product_name\", y='times_reordered', figsize=[15,3]) #Graficamos una barra para una mejor visualización de los datos\n",
    "plt.show()\n",
    "top_reordered_df.iloc[:,0:3]"
   ]
  },
  {
   "cell_type": "markdown",
   "id": "80e70c74",
   "metadata": {
    "id": "80e70c74"
   },
   "source": [
    "Las bananas lideran como produto mas repetido de compra, ya sea de manera singular o en bolsa. A pesar de tener una gran categoría de productos, las mayores recompras se basan en frutas y verduras.Escribe aquí tus conclusiones"
   ]
  },
  {
   "cell_type": "markdown",
   "id": "9d312b14",
   "metadata": {
    "id": "9d312b14"
   },
   "source": [
    "### [C3] Para cada producto, ¿cuál es la proporción de las veces que se pide y que se vuelve a pedir?"
   ]
  },
  {
   "cell_type": "code",
   "execution_count": 439,
   "id": "8ae9f4b1",
   "metadata": {
    "id": "8ae9f4b1"
   },
   "outputs": [
    {
     "data": {
      "text/html": [
       "<div>\n",
       "<style scoped>\n",
       "    .dataframe tbody tr th:only-of-type {\n",
       "        vertical-align: middle;\n",
       "    }\n",
       "\n",
       "    .dataframe tbody tr th {\n",
       "        vertical-align: top;\n",
       "    }\n",
       "\n",
       "    .dataframe thead th {\n",
       "        text-align: right;\n",
       "    }\n",
       "</style>\n",
       "<table border=\"1\" class=\"dataframe\">\n",
       "  <thead>\n",
       "    <tr style=\"text-align: right;\">\n",
       "      <th></th>\n",
       "      <th>product_id</th>\n",
       "      <th>reordered</th>\n",
       "      <th>reordered_share</th>\n",
       "    </tr>\n",
       "    <tr>\n",
       "      <th>product_id</th>\n",
       "      <th></th>\n",
       "      <th></th>\n",
       "      <th></th>\n",
       "    </tr>\n",
       "  </thead>\n",
       "  <tbody>\n",
       "    <tr>\n",
       "      <th>2458</th>\n",
       "      <td>64</td>\n",
       "      <td>43</td>\n",
       "      <td>67.187500</td>\n",
       "    </tr>\n",
       "    <tr>\n",
       "      <th>2927</th>\n",
       "      <td>26</td>\n",
       "      <td>6</td>\n",
       "      <td>23.076923</td>\n",
       "    </tr>\n",
       "    <tr>\n",
       "      <th>43955</th>\n",
       "      <td>86</td>\n",
       "      <td>19</td>\n",
       "      <td>22.093023</td>\n",
       "    </tr>\n",
       "    <tr>\n",
       "      <th>36664</th>\n",
       "      <td>267</td>\n",
       "      <td>153</td>\n",
       "      <td>57.303371</td>\n",
       "    </tr>\n",
       "    <tr>\n",
       "      <th>9869</th>\n",
       "      <td>27</td>\n",
       "      <td>10</td>\n",
       "      <td>37.037037</td>\n",
       "    </tr>\n",
       "    <tr>\n",
       "      <th>10029</th>\n",
       "      <td>24</td>\n",
       "      <td>2</td>\n",
       "      <td>8.333333</td>\n",
       "    </tr>\n",
       "    <tr>\n",
       "      <th>7054</th>\n",
       "      <td>881</td>\n",
       "      <td>614</td>\n",
       "      <td>69.693530</td>\n",
       "    </tr>\n",
       "    <tr>\n",
       "      <th>13223</th>\n",
       "      <td>42</td>\n",
       "      <td>20</td>\n",
       "      <td>47.619048</td>\n",
       "    </tr>\n",
       "    <tr>\n",
       "      <th>22428</th>\n",
       "      <td>63</td>\n",
       "      <td>38</td>\n",
       "      <td>60.317460</td>\n",
       "    </tr>\n",
       "    <tr>\n",
       "      <th>3414</th>\n",
       "      <td>2</td>\n",
       "      <td>0</td>\n",
       "      <td>0.000000</td>\n",
       "    </tr>\n",
       "  </tbody>\n",
       "</table>\n",
       "</div>"
      ],
      "text/plain": [
       "            product_id  reordered  reordered_share\n",
       "product_id                                        \n",
       "2458                64         43        67.187500\n",
       "2927                26          6        23.076923\n",
       "43955               86         19        22.093023\n",
       "36664              267        153        57.303371\n",
       "9869                27         10        37.037037\n",
       "10029               24          2         8.333333\n",
       "7054               881        614        69.693530\n",
       "13223               42         20        47.619048\n",
       "22428               63         38        60.317460\n",
       "3414                 2          0         0.000000"
      ]
     },
     "execution_count": 439,
     "metadata": {},
     "output_type": "execute_result"
    }
   ],
   "source": [
    "\n",
    "# Generamos una agrupación que nos devolvera cuantos productos se pidieron y cuandos se reordenaron\n",
    "agg_dict= {\"product_id\":\"count\", \"reordered\":\"sum\"} \n",
    "share_df = order_products_df.groupby(\"product_id\").agg(agg_dict) \n",
    "\n",
    "\n",
    "#Generamos dos columnas con la proporcion sobre el total de ordenes.\n",
    "share_df[\"reordered_share\"]=(share_df[\"reordered\"]/share_df[\"product_id\"])*100 \n",
    "share_df = share_df.sort_values(by=\"reordered_share\", ascending=False)\n",
    "share_df.head(10)\n",
    "share_df.sample(10)"
   ]
  },
  {
   "cell_type": "code",
   "execution_count": 440,
   "id": "78ec02db",
   "metadata": {},
   "outputs": [
    {
     "data": {
      "text/html": [
       "<div>\n",
       "<style scoped>\n",
       "    .dataframe tbody tr th:only-of-type {\n",
       "        vertical-align: middle;\n",
       "    }\n",
       "\n",
       "    .dataframe tbody tr th {\n",
       "        vertical-align: top;\n",
       "    }\n",
       "\n",
       "    .dataframe thead th {\n",
       "        text-align: right;\n",
       "    }\n",
       "</style>\n",
       "<table border=\"1\" class=\"dataframe\">\n",
       "  <thead>\n",
       "    <tr style=\"text-align: right;\">\n",
       "      <th></th>\n",
       "      <th>order_id</th>\n",
       "      <th>product_id</th>\n",
       "      <th>add_to_cart_order</th>\n",
       "      <th>reordered</th>\n",
       "    </tr>\n",
       "  </thead>\n",
       "  <tbody>\n",
       "    <tr>\n",
       "      <th>3636585</th>\n",
       "      <td>938604</td>\n",
       "      <td>14721</td>\n",
       "      <td>5</td>\n",
       "      <td>1</td>\n",
       "    </tr>\n",
       "  </tbody>\n",
       "</table>\n",
       "</div>"
      ],
      "text/plain": [
       "         order_id  product_id  add_to_cart_order  reordered\n",
       "3636585    938604       14721                  5          1"
      ]
     },
     "execution_count": 440,
     "metadata": {},
     "output_type": "execute_result"
    }
   ],
   "source": [
    "order_products_df[order_products_df[\"product_id\"]==14721] #Tengo dudas de la fidelidad del conjunto de datos original. Este producto no había sido pedido anteriormente y contiene el dato reordered 1"
   ]
  },
  {
   "cell_type": "markdown",
   "id": "I10dEIAyldcO",
   "metadata": {
    "id": "I10dEIAyldcO"
   },
   "source": [
    "Se necesita analizar el conjunto de datos original order_products_df ya que contiene datos que no habían sido pedidos con anterioridad y, sin embargo, son marcados como si ya hubieran sido ordenados anteriormente."
   ]
  },
  {
   "cell_type": "markdown",
   "id": "subject-boxing",
   "metadata": {
    "id": "subject-boxing"
   },
   "source": [
    "### [C4] Para cada cliente, ¿qué proporción de sus productos ya los había pedido?"
   ]
  },
  {
   "cell_type": "code",
   "execution_count": 441,
   "id": "medical-couple",
   "metadata": {
    "id": "medical-couple",
    "scrolled": true
   },
   "outputs": [],
   "source": [
    "# instacart_orders_df #vamos a utilizar esta base para hacer el merge\n",
    "product_ratio = order_products_df.merge(how=\"left\", right=instacart_orders_df[[\"order_id\",\"user_id\"]], on=\"order_id\") "
   ]
  },
  {
   "cell_type": "code",
   "execution_count": 442,
   "id": "f4c03a89",
   "metadata": {},
   "outputs": [],
   "source": [
    "# agruparemos, por user ID y analizaremos las columnas product_id y reordered, finalmente realizaremos el calculo para tener la proporcion.\n",
    "dict_agg= {\"product_id\":\"count\", \"reordered\":\"sum\"}\n",
    "product_ratio = product_ratio.groupby(\"user_id\").agg(dict_agg)\n",
    "product_ratio[\"reordered_ratio\"] = ((product_ratio[\"reordered\"] / product_ratio[\"product_id\"]) *100).round(2)"
   ]
  },
  {
   "cell_type": "code",
   "execution_count": 443,
   "id": "d9c7a5cf",
   "metadata": {},
   "outputs": [
    {
     "name": "stdout",
     "output_type": "stream",
     "text": [
      "El valor maximo de reordered_ratio 100.0\n",
      "El valor mínimo de reordered_ratio 0.0\n",
      "El valor promedio de reordered_ratio 49.4853181265288\n",
      "El valor de la mediana de reordered_ratio 50.0\n"
     ]
    },
    {
     "data": {
      "text/html": [
       "<div>\n",
       "<style scoped>\n",
       "    .dataframe tbody tr th:only-of-type {\n",
       "        vertical-align: middle;\n",
       "    }\n",
       "\n",
       "    .dataframe tbody tr th {\n",
       "        vertical-align: top;\n",
       "    }\n",
       "\n",
       "    .dataframe thead th {\n",
       "        text-align: right;\n",
       "    }\n",
       "</style>\n",
       "<table border=\"1\" class=\"dataframe\">\n",
       "  <thead>\n",
       "    <tr style=\"text-align: right;\">\n",
       "      <th></th>\n",
       "      <th>user_id</th>\n",
       "      <th>product_id</th>\n",
       "      <th>reordered</th>\n",
       "      <th>reordered_ratio</th>\n",
       "    </tr>\n",
       "  </thead>\n",
       "  <tbody>\n",
       "    <tr>\n",
       "      <th>0</th>\n",
       "      <td>2</td>\n",
       "      <td>26</td>\n",
       "      <td>1</td>\n",
       "      <td>3.85</td>\n",
       "    </tr>\n",
       "    <tr>\n",
       "      <th>1</th>\n",
       "      <td>4</td>\n",
       "      <td>2</td>\n",
       "      <td>0</td>\n",
       "      <td>0.00</td>\n",
       "    </tr>\n",
       "    <tr>\n",
       "      <th>2</th>\n",
       "      <td>5</td>\n",
       "      <td>12</td>\n",
       "      <td>8</td>\n",
       "      <td>66.67</td>\n",
       "    </tr>\n",
       "    <tr>\n",
       "      <th>3</th>\n",
       "      <td>6</td>\n",
       "      <td>4</td>\n",
       "      <td>0</td>\n",
       "      <td>0.00</td>\n",
       "    </tr>\n",
       "    <tr>\n",
       "      <th>4</th>\n",
       "      <td>7</td>\n",
       "      <td>14</td>\n",
       "      <td>13</td>\n",
       "      <td>92.86</td>\n",
       "    </tr>\n",
       "    <tr>\n",
       "      <th>...</th>\n",
       "      <td>...</td>\n",
       "      <td>...</td>\n",
       "      <td>...</td>\n",
       "      <td>...</td>\n",
       "    </tr>\n",
       "    <tr>\n",
       "      <th>149621</th>\n",
       "      <td>206203</td>\n",
       "      <td>27</td>\n",
       "      <td>6</td>\n",
       "      <td>22.22</td>\n",
       "    </tr>\n",
       "    <tr>\n",
       "      <th>149622</th>\n",
       "      <td>206206</td>\n",
       "      <td>21</td>\n",
       "      <td>15</td>\n",
       "      <td>71.43</td>\n",
       "    </tr>\n",
       "    <tr>\n",
       "      <th>149623</th>\n",
       "      <td>206207</td>\n",
       "      <td>46</td>\n",
       "      <td>41</td>\n",
       "      <td>89.13</td>\n",
       "    </tr>\n",
       "    <tr>\n",
       "      <th>149624</th>\n",
       "      <td>206208</td>\n",
       "      <td>125</td>\n",
       "      <td>87</td>\n",
       "      <td>69.60</td>\n",
       "    </tr>\n",
       "    <tr>\n",
       "      <th>149625</th>\n",
       "      <td>206209</td>\n",
       "      <td>25</td>\n",
       "      <td>8</td>\n",
       "      <td>32.00</td>\n",
       "    </tr>\n",
       "  </tbody>\n",
       "</table>\n",
       "<p>149626 rows × 4 columns</p>\n",
       "</div>"
      ],
      "text/plain": [
       "        user_id  product_id  reordered  reordered_ratio\n",
       "0             2          26          1             3.85\n",
       "1             4           2          0             0.00\n",
       "2             5          12          8            66.67\n",
       "3             6           4          0             0.00\n",
       "4             7          14         13            92.86\n",
       "...         ...         ...        ...              ...\n",
       "149621   206203          27          6            22.22\n",
       "149622   206206          21         15            71.43\n",
       "149623   206207          46         41            89.13\n",
       "149624   206208         125         87            69.60\n",
       "149625   206209          25          8            32.00\n",
       "\n",
       "[149626 rows x 4 columns]"
      ]
     },
     "execution_count": 443,
     "metadata": {},
     "output_type": "execute_result"
    }
   ],
   "source": [
    "#Imprimiremos valores de analisis y la tabla final\n",
    "print(\"El valor maximo de reordered_ratio\",product_ratio[\"reordered_ratio\"].max())\n",
    "print(\"El valor mínimo de reordered_ratio\",product_ratio[\"reordered_ratio\"].min())\n",
    "print(\"El valor promedio de reordered_ratio\",product_ratio[\"reordered_ratio\"].mean())\n",
    "print(\"El valor de la mediana de reordered_ratio\",product_ratio[\"reordered_ratio\"].median())\n",
    "product_ratio= product_ratio.reset_index()\n",
    "product_ratio\n"
   ]
  },
  {
   "cell_type": "code",
   "execution_count": 444,
   "id": "d253e1ed",
   "metadata": {},
   "outputs": [
    {
     "data": {
      "text/plain": [
       "<Axes: >"
      ]
     },
     "execution_count": 444,
     "metadata": {},
     "output_type": "execute_result"
    },
    {
     "data": {
      "image/png": "[encoded data removed]",
      "text/plain": [
       "<Figure size 640x480 with 1 Axes>"
      ]
     },
     "metadata": {},
     "output_type": "display_data"
    }
   ],
   "source": [
    "# Ahora comprobaremos con un histograma la distribución de reordered ratio\n",
    "\n",
    "product_ratio[\"reordered_ratio\"].hist()"
   ]
  },
  {
   "cell_type": "markdown",
   "id": "BgJSvXDsleXz",
   "metadata": {
    "id": "BgJSvXDsleXz"
   },
   "source": [
    "Dentro de estas bases pudimos observar un total de 206209 usuarios únicos con sus respectivos comportamientos de compra, como pueden observar en la tabla, hemos obtenido proporcion para cada usuario único, sin embargo para tener un mejor análisis de los valores, he decidido realizar un histograma que nos permite visualizar la distribución de \"reordered_ratio\", el comportamiento se inclina para usuarios que no habían solicitado el producto anteriormente y aquellos que lo habían hecho de un 45% a un 50%\n",
    "\n",
    "En contraste la tabla nos arroja un valor maximo de 100 y minimo de 0, con un promedio de 49%, el histrograma\n",
    "\n"
   ]
  },
  {
   "cell_type": "markdown",
   "id": "a43fbcde",
   "metadata": {},
   "source": [
    "<div class=\"alert alert-success\">\n",
    "<b>✔️  Comentario del revisor:</b> Buen trabajo.</div>"
   ]
  },
  {
   "cell_type": "markdown",
   "id": "92d35137",
   "metadata": {
    "id": "92d35137"
   },
   "source": [
    "### [C5] ¿Cuáles son los 20 principales artículos que las personas ponen primero en sus carritos?"
   ]
  },
  {
   "cell_type": "code",
   "execution_count": 445,
   "id": "0ae57274",
   "metadata": {
    "id": "0ae57274",
    "scrolled": true
   },
   "outputs": [],
   "source": [
    "# instacart_orders_df #vamos a utilizar esta base para hacer el merge\n",
    "first_item = order_products_df[order_products_df[\"add_to_cart_order\"]==1]\n",
    "first_item = first_item.groupby(\"product_id\")[\"add_to_cart_order\"].sum().sort_values(ascending=False).head(20)\n",
    "first_item = first_item.reset_index()"
   ]
  },
  {
   "cell_type": "code",
   "execution_count": 446,
   "id": "273d50b1",
   "metadata": {},
   "outputs": [],
   "source": [
    "first_item= first_item.merge(how=\"left\", right=products_df[[\"product_id\",\"product_name\"]], on=\"product_id\")"
   ]
  },
  {
   "cell_type": "code",
   "execution_count": 447,
   "id": "85ac644d",
   "metadata": {},
   "outputs": [
    {
     "data": {
      "text/html": [
       "<div>\n",
       "<style scoped>\n",
       "    .dataframe tbody tr th:only-of-type {\n",
       "        vertical-align: middle;\n",
       "    }\n",
       "\n",
       "    .dataframe tbody tr th {\n",
       "        vertical-align: top;\n",
       "    }\n",
       "\n",
       "    .dataframe thead th {\n",
       "        text-align: right;\n",
       "    }\n",
       "</style>\n",
       "<table border=\"1\" class=\"dataframe\">\n",
       "  <thead>\n",
       "    <tr style=\"text-align: right;\">\n",
       "      <th></th>\n",
       "      <th>product_id</th>\n",
       "      <th>first_add_count</th>\n",
       "      <th>product_name</th>\n",
       "    </tr>\n",
       "  </thead>\n",
       "  <tbody>\n",
       "    <tr>\n",
       "      <th>0</th>\n",
       "      <td>24852</td>\n",
       "      <td>15562</td>\n",
       "      <td>banana</td>\n",
       "    </tr>\n",
       "    <tr>\n",
       "      <th>1</th>\n",
       "      <td>13176</td>\n",
       "      <td>11026</td>\n",
       "      <td>bag of organic bananas</td>\n",
       "    </tr>\n",
       "    <tr>\n",
       "      <th>2</th>\n",
       "      <td>27845</td>\n",
       "      <td>4363</td>\n",
       "      <td>organic whole milk</td>\n",
       "    </tr>\n",
       "    <tr>\n",
       "      <th>3</th>\n",
       "      <td>21137</td>\n",
       "      <td>3946</td>\n",
       "      <td>organic strawberries</td>\n",
       "    </tr>\n",
       "    <tr>\n",
       "      <th>4</th>\n",
       "      <td>47209</td>\n",
       "      <td>3390</td>\n",
       "      <td>organic hass avocado</td>\n",
       "    </tr>\n",
       "    <tr>\n",
       "      <th>5</th>\n",
       "      <td>21903</td>\n",
       "      <td>3336</td>\n",
       "      <td>organic baby spinach</td>\n",
       "    </tr>\n",
       "    <tr>\n",
       "      <th>6</th>\n",
       "      <td>47766</td>\n",
       "      <td>3044</td>\n",
       "      <td>organic avocado</td>\n",
       "    </tr>\n",
       "    <tr>\n",
       "      <th>7</th>\n",
       "      <td>19660</td>\n",
       "      <td>2336</td>\n",
       "      <td>spring water</td>\n",
       "    </tr>\n",
       "    <tr>\n",
       "      <th>8</th>\n",
       "      <td>16797</td>\n",
       "      <td>2308</td>\n",
       "      <td>strawberries</td>\n",
       "    </tr>\n",
       "    <tr>\n",
       "      <th>9</th>\n",
       "      <td>27966</td>\n",
       "      <td>2024</td>\n",
       "      <td>organic raspberries</td>\n",
       "    </tr>\n",
       "    <tr>\n",
       "      <th>10</th>\n",
       "      <td>44632</td>\n",
       "      <td>1914</td>\n",
       "      <td>sparkling water grapefruit</td>\n",
       "    </tr>\n",
       "    <tr>\n",
       "      <th>11</th>\n",
       "      <td>49235</td>\n",
       "      <td>1797</td>\n",
       "      <td>organic half &amp; half</td>\n",
       "    </tr>\n",
       "    <tr>\n",
       "      <th>12</th>\n",
       "      <td>47626</td>\n",
       "      <td>1737</td>\n",
       "      <td>large lemon</td>\n",
       "    </tr>\n",
       "    <tr>\n",
       "      <th>13</th>\n",
       "      <td>196</td>\n",
       "      <td>1733</td>\n",
       "      <td>soda</td>\n",
       "    </tr>\n",
       "    <tr>\n",
       "      <th>14</th>\n",
       "      <td>38689</td>\n",
       "      <td>1397</td>\n",
       "      <td>organic reduced fat milk</td>\n",
       "    </tr>\n",
       "    <tr>\n",
       "      <th>15</th>\n",
       "      <td>26209</td>\n",
       "      <td>1370</td>\n",
       "      <td>limes</td>\n",
       "    </tr>\n",
       "    <tr>\n",
       "      <th>16</th>\n",
       "      <td>12341</td>\n",
       "      <td>1340</td>\n",
       "      <td>hass avocados</td>\n",
       "    </tr>\n",
       "    <tr>\n",
       "      <th>17</th>\n",
       "      <td>5785</td>\n",
       "      <td>1310</td>\n",
       "      <td>organic reduced fat 2% milk</td>\n",
       "    </tr>\n",
       "    <tr>\n",
       "      <th>18</th>\n",
       "      <td>27086</td>\n",
       "      <td>1309</td>\n",
       "      <td>half &amp; half</td>\n",
       "    </tr>\n",
       "    <tr>\n",
       "      <th>19</th>\n",
       "      <td>43352</td>\n",
       "      <td>1246</td>\n",
       "      <td>raspberries</td>\n",
       "    </tr>\n",
       "  </tbody>\n",
       "</table>\n",
       "</div>"
      ],
      "text/plain": [
       "    product_id  first_add_count                 product_name\n",
       "0        24852            15562                       banana\n",
       "1        13176            11026       bag of organic bananas\n",
       "2        27845             4363           organic whole milk\n",
       "3        21137             3946         organic strawberries\n",
       "4        47209             3390         organic hass avocado\n",
       "5        21903             3336         organic baby spinach\n",
       "6        47766             3044              organic avocado\n",
       "7        19660             2336                 spring water\n",
       "8        16797             2308                 strawberries\n",
       "9        27966             2024          organic raspberries\n",
       "10       44632             1914   sparkling water grapefruit\n",
       "11       49235             1797          organic half & half\n",
       "12       47626             1737                  large lemon\n",
       "13         196             1733                         soda\n",
       "14       38689             1397     organic reduced fat milk\n",
       "15       26209             1370                        limes\n",
       "16       12341             1340                hass avocados\n",
       "17        5785             1310  organic reduced fat 2% milk\n",
       "18       27086             1309                  half & half\n",
       "19       43352             1246                  raspberries"
      ]
     },
     "execution_count": 447,
     "metadata": {},
     "output_type": "execute_result"
    }
   ],
   "source": [
    "first_item.rename(columns={\"add_to_cart_order\": \"first_add_count\"}, inplace=True)\n",
    "first_item"
   ]
  },
  {
   "cell_type": "code",
   "execution_count": 448,
   "id": "c22d4f97",
   "metadata": {},
   "outputs": [
    {
     "data": {
      "text/plain": [
       "<Axes: xlabel='Product', ylabel='First add count'>"
      ]
     },
     "execution_count": 448,
     "metadata": {},
     "output_type": "execute_result"
    },
    {
     "data": {
      "image/png": "[encoded data removed]",
      "text/plain": [
       "<Figure size 900x500 with 1 Axes>"
      ]
     },
     "metadata": {},
     "output_type": "display_data"
    }
   ],
   "source": [
    "first_item.plot(kind=\"bar\", x=\"product_name\" , y=\"first_add_count\" ,legend=None ,xlabel=\"Product\", ylabel=\"First add count\", figsize=[9,5])"
   ]
  },
  {
   "cell_type": "markdown",
   "id": "28ce9872",
   "metadata": {
    "id": "28ce9872"
   },
   "source": [
    "Nuevamente las frutas y verduras lidera el listado, sin embargo podemos observar que el agua de manantial, la soda y half & half son productos que no habíamos visto anteriormente"
   ]
  },
  {
   "cell_type": "markdown",
   "id": "uITbFCEoDosC",
   "metadata": {
    "id": "uITbFCEoDosC"
   },
   "source": [
    "### Conclusion general del proyecto:"
   ]
  },
  {
   "cell_type": "markdown",
   "id": "eccd5e9e",
   "metadata": {},
   "source": [
    "En conclusion podemos compartir los siguientes elementos clave con la empresa Instacart:\n",
    "\n",
    "\n",
    "- Días con mas demana : Los días con mas demanda de compra son los días domingo, seguido de lunes y martes. \n",
    "- Horarios con más demanda: Podemos destacar que las horas con mayor demanda se encuentran entre las 10:00 am y 04:00 p.m., también podemos notar un número bajo de pedidos de 1 a 5 de la mañana lo cual podría tener relación con los horarios de sueño de los usuarios. \n",
    "- Lealtad de los clientes: Dentro de los primeros 10 días podemos ver que el 64.92% del total de usuarios deciden volver a utilizar la aplicacion.\n",
    "- Productos mas solicitados: Los productos estrella mas solicitados forman parte de las categorias de frutas y verduras.\n",
    "- El equipo instacart podría perpararse para la demanda de los horarios con mayor demana e incluso ofrecer promociones en los horarios días mas bajos. Tambien es importante considerar a aquellos usuarios que no frecuentan la plataforma, ofreciendo cupones o analizando si los productos que requieren se encuentran disponibles en la plataforma.\n",
    "- Enfocarse los productos más solicitados para estar preparados para una mejor demanda y a su vez analizar si otros productos no son tan consumidos por otras variables (ejemplo: \"procesos o refrigeración\").\n"
   ]
  },
  {
   "cell_type": "markdown",
   "id": "9e3f9fe4",
   "metadata": {},
   "source": [
    "<div class=\"alert alert-success\">\n",
    "<b>✔️  Comentario del revisor:</b> Buen trabajo Juan, exitos en lo que sigue!.</div>"
   ]
  },
  {
   "cell_type": "code",
   "execution_count": null,
   "id": "f72aa935",
   "metadata": {},
   "outputs": [],
   "source": []
  }
 ],
 "metadata": {
  "colab": {
   "provenance": []
  },
  "kernelspec": {
   "display_name": "Python 3 (ipykernel)",
   "language": "python",
   "name": "python3"
  },
  "language_info": {
   "codemirror_mode": {
    "name": "ipython",
    "version": 3
   },
   "file_extension": ".py",
   "mimetype": "text/x-python",
   "name": "python",
   "nbconvert_exporter": "python",
   "pygments_lexer": "ipython3",
   "version": "3.9.5"
  },
  "toc": {
   "base_numbering": 1,
   "nav_menu": {},
   "number_sections": true,
   "sideBar": true,
   "skip_h1_title": true,
   "title_cell": "Table of Contents",
   "title_sidebar": "Contents",
   "toc_cell": false,
   "toc_position": {
    "height": "calc(100% - 180px)",
    "left": "10px",
    "top": "150px",
    "width": "165px"
   },
   "toc_section_display": true,
   "toc_window_display": true
  },
  "vscode": {
   "interpreter": {
    "hash": "01a7be9ec63e704a62cefc5fe7a4756944464ee731be31632bdf42a4cb4688cf"
   }
  }
 },
 "nbformat": 4,
 "nbformat_minor": 5
}
